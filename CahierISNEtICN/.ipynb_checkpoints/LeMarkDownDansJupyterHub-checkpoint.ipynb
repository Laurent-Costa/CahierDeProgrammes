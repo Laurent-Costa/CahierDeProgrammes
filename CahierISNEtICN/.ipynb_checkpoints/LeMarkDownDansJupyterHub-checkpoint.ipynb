{
 "cells": [
  {
   "cell_type": "markdown",
   "metadata": {},
   "source": [
    "# De l'aide au markdown en ligne à un cahier memo\n",
    "\n",
    "Ce cahier ne contient en fait que ce que le site Github livre comme manuel du markdown\n",
    "\n",
    "on accède à l'[aide en ligne](https://help.github.com/articles/basic-writing-and-formatting-syntax/) grâce au lien dans le menu Help comme le montre l'illustration ci-dessous.\n",
    "\n",
    "![Menu déroulant hep](CahierISNEtICN/images/AccesMarkdown.jpg)\n",
    "                                \n",
    "![licence](images/Licence.jpg)\n",
    "\n"
   ]
  },
  {
   "cell_type": "markdown",
   "metadata": {},
   "source": [
    "# Les balises de titre : des \"#\" comme indicateurs\n",
    "\n",
    "## Avec deux \"##\" on a un sous titre \n",
    "\n",
    "###### Avec cinq \"######\" on a un sousousousousous titre.\n"
   ]
  },
  {
   "cell_type": "code",
   "execution_count": null,
   "metadata": {
    "collapsed": true
   },
   "outputs": [],
   "source": []
  }
 ],
 "metadata": {
  "kernelspec": {
   "display_name": "Python 3",
   "language": "python",
   "name": "python3"
  },
  "language_info": {
   "codemirror_mode": {
    "name": "ipython",
    "version": 3
   },
   "file_extension": ".py",
   "mimetype": "text/x-python",
   "name": "python",
   "nbconvert_exporter": "python",
   "pygments_lexer": "ipython3",
   "version": "3.5.3"
  }
 },
 "nbformat": 4,
 "nbformat_minor": 2
}
