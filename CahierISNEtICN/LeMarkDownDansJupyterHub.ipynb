{
 "cells": [
  {
   "cell_type": "markdown",
   "metadata": {},
   "source": [
    "# De l'aide au markdown en ligne à un cahier memo\n",
    "\n",
    "Ce cahier ne contient en fait que ce que le site Github livre comme manuel du markdown\n",
    "\n",
    "on accède à l'[aide en ligne](https://help.github.com/articles/basic-writing-and-formatting-syntax/) grâce au lien dans le menu Help comme le montre l'illustration ci-dessous.\n",
    "\n",
    "![Menu déroulant hep](images/AccesMarkdown.jpg)\n",
    "                                \n",
    "![licence](images/Licence.jpg)\n",
    "\n"
   ]
  },
  {
   "cell_type": "markdown",
   "metadata": {},
   "source": [
    "# Les balises de titre : des \"#\" comme indicateurs\n",
    "\n",
    "## Avec deux \"##\" on a un sous titre \n",
    "\n",
    "###### Avec cinq \"######\" on a un sousousousousous titre.\n"
   ]
  },
  {
   "cell_type": "markdown",
   "metadata": {
    "collapsed": true
   },
   "source": [
    "# Les éléments d'enrichissement du texte ou de la *graisse* \n",
    "\n",
    "**Le gras** s'obtient avec la balise **gras**\n",
    "\n",
    "*l'italique* s'obtient avec la balise *italique*\n",
    "\n",
    "~~Le rayé~~ s'obtient avec la balise ~~rayé~~\n",
    "\n",
    "Le **_gras italique_** s'obtient avec la balise **_gras italique_**\n",
    "\n",
    "Acquérir les automatismes en *MarkDown* repose sur une utilisation régulière. "
   ]
  },
  {
   "cell_type": "markdown",
   "metadata": {},
   "source": [
    "# Une façon de mettre en relief une consigne \n",
    "\n",
    "> Pour parvenir à réaliser l'exercice vous devez suivre cette consigne : \n",
    ">\n",
    "> prenez le temps de réfléchir"
   ]
  },
  {
   "cell_type": "markdown",
   "metadata": {},
   "source": [
    "# La mise en \"exergue\" du code \n",
    "\n",
    "On obtient l'effet de surligné pour le `code` en insérant la balise `code`\n",
    "\n",
    "On peut aussi encadrer un fragment de code comme sur l'exemple ci-dessous :\n",
    "\n",
    "``` \n",
    "#les commandes dans github sont par exemple \n",
    "\n",
    "git status\n",
    "git checkout\n",
    "git add \n",
    "```\n",
    "\n",
    "Mais le plus joli c'est de récupérer les codes en couleur contextuelle \n",
    "\n",
    "```python\n",
    "print(\"Vous êtes dans un cahier de programme du projet Météo et Climat : Tremplin pour l'enseigneent des Sciences\")\n",
    "for i in range(4):\n",
    "    print(\"bravo\")\n",
    "    print(\"bonne lecture … \",\";\",end='')\n",
    "```\n",
    "ou avec un autre langage \n",
    "\n",
    "```ruby\n",
    "require 'redcarpet'\n",
    "markdown = Redcarpet.new(\"Hello World!\")\n",
    "puts markdown.to_html\n",
    "```\n",
    "\n"
   ]
  },
  {
   "cell_type": "code",
   "execution_count": 5,
   "metadata": {},
   "outputs": [
    {
     "name": "stdout",
     "output_type": "stream",
     "text": [
      "Vous êtes dans un cahier de programme du projet Météo et Climat : Tremplin pour l'enseigneent des Sciences\n",
      "bravo\n",
      "bonne lecture …  ;bravo\n",
      "bonne lecture …  ;bravo\n",
      "bonne lecture …  ;bravo\n",
      "bonne lecture …  ;"
     ]
    }
   ],
   "source": [
    "# un simple copier coller du code dans un champ \"python\" permet son execution sans erreurs.\n",
    "print(\"Vous êtes dans un cahier de programme du projet Météo et Climat : Tremplin pour l'enseigneent des Sciences\")\n",
    "for i in range(4):\n",
    "    print(\"bravo\")\n",
    "    print(\"bonne lecture … \",\";\",end='')"
   ]
  },
  {
   "cell_type": "markdown",
   "metadata": {},
   "source": [
    "# Les liens vers les sites ....\n",
    "\n",
    "Rien de plus simple que de créer un [lien](http://stsaens-lyc.spip.ac-rouen.fr/)\n",
    "\n",
    "mais on peut encore faire plus simple http://stsaens-lyc.spip.ac-rouen.fr/\n"
   ]
  },
  {
   "cell_type": "code",
   "execution_count": null,
   "metadata": {
    "collapsed": true
   },
   "outputs": [],
   "source": []
  }
 ],
 "metadata": {
  "kernelspec": {
   "display_name": "Python 3",
   "language": "python",
   "name": "python3"
  },
  "language_info": {
   "codemirror_mode": {
    "name": "ipython",
    "version": 3
   },
   "file_extension": ".py",
   "mimetype": "text/x-python",
   "name": "python",
   "nbconvert_exporter": "python",
   "pygments_lexer": "ipython3",
   "version": "3.5.3"
  }
 },
 "nbformat": 4,
 "nbformat_minor": 2
}
