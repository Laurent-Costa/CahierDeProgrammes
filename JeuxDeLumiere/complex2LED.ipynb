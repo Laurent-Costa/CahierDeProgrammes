{
 "cells": [
  {
   "cell_type": "markdown",
   "metadata": {},
   "source": [
    "# Modulation d'une LED RGB : création d'un arc-en-ciel\n",
    "\n",
    "Ce cahier aborde la combinaison de la lumière Rouge verte et bleue issue de 3 LEDs regroupées dans une LED RGB pour produire toutes les couleurs du spectre, la démonstration est faite en produisant un arc-en-ciel. L'objectif est de parvenir à reproduire l'enchainement des couleurs avec une LED RGB comme présenté sur ce [petit film](http://mediaserv.climatetmeteo.fr/users/GerardVidal/ObjetsConnectes/lePotDeYaourtMagique.mp4).\n"
   ]
  },
  {
   "cell_type": "markdown",
   "metadata": {},
   "source": [
    "## Utilisation de transistors pour moduler l'éclairement de 3 Leds\n",
    "\n",
    "Ce montage permet de s'affranchir des risques de surtension lorsqu'on utilise des objets connectés fonctionnant avec des broches de contrôle en basse ou très basse tension (3.3V ou 1.8V) au lieu des 5V que propose l'Arduino.\n",
    "\n",
    "On utilise les GPIO 22, 23, 24, correspondant aux Broches 15, 16, et 18 de la Raspberry Pi pour les couleurs bleue, vert, rouge. On utilise ici la bibliothèque dédiée à la Raspberry Pi (Rpi.GPIO) afin de pouvoir modifier la configuration des broches. Les déclarations du premier bloc de code ci-dessous sont communes à  tous les codes proposés plus loin.\n",
    "\n",
    "![3 LEDs rouge vert jaune alimentation avec trois transistors indépendants ](images/ledRGB-1.png)\n",
    "\n",
    "Les transistors sont placés ici sur les cathodes pour simuler la cathode commune de la LED RGB qui sera traitée dans la deuxième partie. Il est possible de réaliser le montage symétrique sur les anodes (en permuttant aussi le sens des transistors) pour simuler une LED RGB à anode commune. "
   ]
  },
  {
   "cell_type": "code",
   "execution_count": 1,
   "metadata": {
    "collapsed": false
   },
   "outputs": [],
   "source": [
    "import RPi.GPIO as gpio, time\n",
    "gpio.setmode(gpio.BOARD)  # choisir BCM ou BOARD pour identifier les broches. Ici BOARD\n",
    "\n",
    "gpio.setup(15, gpio.OUT)# GPIO 22 broche 15 output  \n",
    "gpio.setup(16, gpio.OUT)# GPIO 23 broche 16 output \n",
    "gpio.setup(18, gpio.OUT)# GPIO 24 broche 18 output  \n"
   ]
  },
  {
   "cell_type": "markdown",
   "metadata": {},
   "source": [
    "### Test des leds \n",
    "\n",
    "Quelques lignes de code pour tester trois LEDs rouge, vert, jaune ainsi que la mise en oeuvre de broches en mode PWM logiciel. Le but de ce petit code est de vérifier que les broches activées en PWM sont effectivement opérationnelles et tester la valeur des résistances à mettre en oeuvre pour l'éclairement soit homogène entre les différentes couleurs. La tension est inférieure à 3.3V sur les broches PWM logicielles et le courant faible, les transistors supportent une tension suffisamment élevée pour fonctionner sans risque avec la Raspberry pi."
   ]
  },
  {
   "cell_type": "code",
   "execution_count": 6,
   "metadata": {
    "collapsed": false
   },
   "outputs": [],
   "source": [
    "py = gpio.PWM(15, 50)    # led bleue crée un objet pg  PWM sur le port GPIO22 à 50 Hertz  T=20ms \n",
    "pg = gpio.PWM(16, 50)    # led verte crée un objet pb  PWM sur le port GPIO23 à 50 Hertz  T=20ms \n",
    "pr = gpio.PWM(18, 50)    # led rouge crée un objet pr  PWM sur le port GPIO24 à 50 Hertz  T=20ms \n",
    "\n",
    "load = 70\n",
    "\n",
    "pr.start(load)             # allumage à load % (load% duty cycle) \n",
    "pg.start(load)             # allumage à load % (load% duty cycle)   \n",
    "py.start(load)             # allumage à load % (load% duty cycle)   \n"
   ]
  },
  {
   "cell_type": "markdown",
   "metadata": {},
   "source": [
    "Arrêt et extinction des LEDs."
   ]
  },
  {
   "cell_type": "code",
   "execution_count": 7,
   "metadata": {
    "collapsed": false
   },
   "outputs": [],
   "source": [
    "pr.stop()\n",
    "pg.stop()\n",
    "pb.stop()"
   ]
  },
  {
   "cell_type": "markdown",
   "metadata": {},
   "source": [
    "Nettoyage de la configuration des broches."
   ]
  },
  {
   "cell_type": "code",
   "execution_count": 4,
   "metadata": {
    "collapsed": false
   },
   "outputs": [],
   "source": [
    "gpio.cleanup()          #nettoyage de l'état du gpio"
   ]
  },
  {
   "cell_type": "markdown",
   "metadata": {},
   "source": [
    "## Utilisation de transistors pour moduler l'éclairement d'une Led RGB\n",
    "\n",
    "Quelques lignes de code pour tester une LED RGB (rouge vert bleu) et la mise en oeuvre de broches en mode PWM logiciel. Le but de ce petit code est de vérifier que les broches activées en PWM sont effectivement opérationnelles et tester la valeur des résistances à mettre en oeuvre pour l'éclairement soit homogène entre les différentes couleurs.\n",
    "\n",
    "![LED RGB (rouge, vert, bleu) à cathode commune alimentation avec trois transistors indépendants ](images/ledRGB-2.png)\n"
   ]
  },
  {
   "cell_type": "markdown",
   "metadata": {},
   "source": [
    "La LED RGB comprend trois diodes aux propriétés différentes, les résistances permettent de modifier l'intensité du courant qui les parcourt et ajuster l'éclairement entre elles pour obtenir le mélange de couleurs souhaité et afficher la bonne couleur. "
   ]
  },
  {
   "cell_type": "code",
   "execution_count": 2,
   "metadata": {
    "collapsed": false
   },
   "outputs": [],
   "source": [
    "pb = gpio.PWM(15, 50)    # led bleue crée un objet pg  PWM sur le port GPIO22 à 50 Hertz  T=20ms \n",
    "pg = gpio.PWM(16, 50)    # led verte crée un objet pb  PWM sur le port GPIO23 à 50 Hertz  T=20ms \n",
    "pr = gpio.PWM(18, 50)    # led rouge crée un objet pr  PWM sur le port GPIO24 à 50 Hertz  T=20ms \n",
    "\n",
    "load = 70\n",
    "\n",
    "pr.start(load)             # allumage à load % (load% duty cycle) \n",
    "pg.start(load)             # allumage à load % (load% duty cycle)   \n",
    "pb.start(load)             # allumage à load % (load% duty cycle)   \n"
   ]
  },
  {
   "cell_type": "markdown",
   "metadata": {},
   "source": [
    "Nettoyage de la configuration des broches."
   ]
  },
  {
   "cell_type": "code",
   "execution_count": 3,
   "metadata": {
    "collapsed": false
   },
   "outputs": [],
   "source": [
    "pr.stop()\n",
    "pg.stop()\n",
    "pb.stop()"
   ]
  },
  {
   "cell_type": "markdown",
   "metadata": {},
   "source": [
    "Nettoyage de la configuration des broches."
   ]
  },
  {
   "cell_type": "code",
   "execution_count": 4,
   "metadata": {
    "collapsed": false
   },
   "outputs": [],
   "source": [
    "gpio.cleanup()          #nettoyage de l'état du gpio"
   ]
  },
  {
   "cell_type": "markdown",
   "metadata": {},
   "source": [
    "### Modification de l'intensité lumineuse et de la fréquence\n",
    "\n",
    "Les broches en mode PWM (Pulse width Modulation) fournissent un potentiel de contrôle très riche, ce code permet d'explorer la modulation de la lumière et le clignootement. La théorie n'est pas développée ici, on aborde de façon empirique  les paramètres de contrôle :\n",
    " * fréquence \n",
    " * cycle de service "
   ]
  },
  {
   "cell_type": "code",
   "execution_count": 4,
   "metadata": {
    "collapsed": false
   },
   "outputs": [],
   "source": [
    "dur = 0.25              # Durée des séquences\n",
    "\n",
    "pb = gpio.PWM(15, 50)    # led bleue crée un objet pg  PWM sur le port GPIO22 à 200 Hertz  T=5ms \n",
    "pg = gpio.PWM(16, 50)    # led verte crée un objet pb  PWM sur le port GPIO23 à 200 Hertz  T=5ms \n",
    "pr = gpio.PWM(18, 50)    # led rouge crée un objet pr  PWM sur le port GPIO24 à 200 Hertz  T=5ms \n",
    "\n",
    "# Allumage successif des 3 LEDs et changement d'intensité  \n",
    "pr.start(0)             # allumage à 15 % (15% duty cycle) \n",
    "time.sleep(dur)\n",
    "for i in range(5,100,5) :\n",
    "    pr.ChangeDutyCycle(i)   # passage à 100% par pas de 5%\n",
    "    time.sleep(dur)\n",
    "pr.ChangeFrequency(2)   # passage de la fréquence à 5 Hz  \n",
    "time.sleep(40*dur)\n",
    "pr.stop()\n",
    "pg.start(0)             # allumage à 15 % (15% duty cycle)   \n",
    "time.sleep(dur)\n",
    "for i in range(5,100,5) :\n",
    "    pg.ChangeDutyCycle(i)   # passage à 80% par pas de 5% \n",
    "    time.sleep(dur)\n",
    "pg.ChangeFrequency(2)   # passage de la fréquence à 5 Hz  \n",
    "time.sleep(40*dur)\n",
    "pg.stop()\n",
    "pb.start(0)             # allumage à 15 % (15% duty cycle)   \n",
    "time.sleep(dur)\n",
    "for i in range(5,100,5) :\n",
    "    pb.ChangeDutyCycle(i)   # passage à 80% par pas de 5%\n",
    "    time.sleep(dur)\n",
    "pb.ChangeFrequency(2)   # passage de la fréquence à 18 Hz  \n",
    "time.sleep(40*dur)\n",
    "pb.stop()"
   ]
  },
  {
   "cell_type": "code",
   "execution_count": 8,
   "metadata": {
    "collapsed": false
   },
   "outputs": [],
   "source": [
    "gpio.cleanup()          #nettoyage de l'état du gpio  \n"
   ]
  },
  {
   "cell_type": "markdown",
   "metadata": {
    "collapsed": true
   },
   "source": [
    "## Création d'un arc-en-ciel avec une LED RGB\n",
    "\n",
    "La Led RGB permet de mélanger les couleurs comme cela se passe dans un téléviseur à LED. Chaque point de l'écran crée la couleur requise en mélangeant les trois couleurs Rouge Vert Bleu dans les proportions adéquates. Une nouvelle bibliothèque est ajoutée afin de déyecter les entrées au clavier pendant l'excution des tâches."
   ]
  },
  {
   "cell_type": "code",
   "execution_count": 6,
   "metadata": {
    "collapsed": false
   },
   "outputs": [],
   "source": [
    "import _thread as thread\n",
    "\n",
    "pb = gpio.PWM(15, 200)    # led verte crée un objet pg  PWM sur le port GPIO22 à 200 Hertz  T=5ms \n",
    "pg = gpio.PWM(16, 200)    # led bleue crée un objet pb  PWM sur le port GPIO23 à 200 Hertz  T=5ms \n",
    "pr = gpio.PWM(18, 200)    # led rouge crée un objet pr  PWM sur le port GPIO24 à 200 Hertz  T=5ms "
   ]
  },
  {
   "cell_type": "code",
   "execution_count": null,
   "metadata": {
    "collapsed": false
   },
   "outputs": [
    {
     "name": "stdout",
     "output_type": "stream",
     "text": [
      "Type \"stop\" to stop modulation\n"
     ]
    }
   ],
   "source": [
    "\n",
    "dur = 0.15\n",
    "\n",
    "# veille sur l'input\n",
    "def input_thread(CheckInput):\n",
    "    check = input()\n",
    "#    CheckInput = CheckInput.append(check)\n",
    "    CheckInput.append(check)\n",
    "    return\n",
    "\n",
    "def rainbow():\n",
    "    CheckInput = []\n",
    "    thread.start_new_thread(input_thread, (CheckInput,))\n",
    "    print ('Type \"stop\" to stop modulation')\n",
    "    \n",
    "    pr.start(0)             # allumage à 0 % (0% duty cycle) \n",
    "    for i in range(0,100,5) :\n",
    "        pr.ChangeDutyCycle(i)   # de 0 à 100% par pas de 5% par 0.25s\n",
    "        time.sleep(dur)\n",
    "        \n",
    "    while True :\n",
    "        pg.start(0)             # allumage à 0 % (0% duty cycle) \n",
    "        for i in range(0,100,5) :\n",
    "            pg.ChangeDutyCycle(i)   # de 0 à 100% par pas de 5% par 0.25s\n",
    "            time.sleep(dur)\n",
    "        for i in range(100,0,-5) :\n",
    "            pr.ChangeDutyCycle(i)   # de 0 à 100% par pas de 5% par 0.25s\n",
    "            time.sleep(dur)\n",
    "        pr.stop()\n",
    "        pb.start(0)             # allumage à 0 % (0% duty cycle) \n",
    "        for i in range(0,100,5) :\n",
    "            pb.ChangeDutyCycle(i)   # de 0 à 100% par pas de 5% par 0.25s\n",
    "            time.sleep(dur)\n",
    "        for i in range(100,0,-5) :\n",
    "            pg.ChangeDutyCycle(i)   # de 0 à 100% par pas de 5% par 0.25s\n",
    "            time.sleep(dur)\n",
    "        pg.stop()\n",
    "        pr.start(0)             # allumage à 0 % (0% duty cycle) \n",
    "        for i in range(0,100,5) :\n",
    "            pr.ChangeDutyCycle(i)   # de 0 à 100% par pas de 5% par 0.25s\n",
    "            time.sleep(dur)\n",
    "        for i in range(100,0,-5) :\n",
    "            pb.ChangeDutyCycle(i)   # de 0 à 100% par pas de 5% par 0.25s\n",
    "            time.sleep(dur)\n",
    "        pb.stop()\n",
    "        \n",
    "        # Sortie de boucle infinie\n",
    "        if CheckInput == ['stop']  : \n",
    "            pr.stop()\n",
    "            pg.stop()\n",
    "            pb.stop()            \n",
    "            break\n",
    "    return\n",
    "\n",
    "\n",
    "rainbow()\n"
   ]
  },
  {
   "cell_type": "code",
   "execution_count": 8,
   "metadata": {
    "collapsed": false
   },
   "outputs": [],
   "source": [
    "pr.stop()\n",
    "pg.stop()\n",
    "pb.stop()"
   ]
  },
  {
   "cell_type": "code",
   "execution_count": 2,
   "metadata": {
    "collapsed": false
   },
   "outputs": [],
   "source": [
    "gpio.cleanup()          #nettoyage de l'état du gpio  "
   ]
  }
 ],
 "metadata": {
  "kernelspec": {
   "display_name": "Python 3",
   "language": "python",
   "name": "python3"
  },
  "language_info": {
   "codemirror_mode": {
    "name": "ipython",
    "version": 3
   },
   "file_extension": ".py",
   "mimetype": "text/x-python",
   "name": "python",
   "nbconvert_exporter": "python",
   "pygments_lexer": "ipython3",
   "version": "3.5.2+"
  }
 },
 "nbformat": 4,
 "nbformat_minor": 2
}
