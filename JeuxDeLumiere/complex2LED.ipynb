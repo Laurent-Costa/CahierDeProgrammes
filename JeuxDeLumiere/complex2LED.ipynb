{
 "cells": [
  {
   "cell_type": "markdown",
   "metadata": {},
   "source": [
    "# Modulation d'une LED RGB : création d'un arc-en-ciel\n",
    "\n",
    "Ce cahier aborde la combinaison de la lumière Rouge verte et bleue issue de 3 LEDs regroupées dans une LED RGB pour produire toutes les couleurs du spectre, la démonstration est faite en produisant un arc-en-ciel."
   ]
  },
  {
   "cell_type": "markdown",
   "metadata": {},
   "source": [
    "## Utilisation de transistors pour moduler l'éclairement de 3 Leds\n",
    "\n",
    "Ce montage permet de s'affranchir des risques de surtension lorsqu'on utilise des objets connectés fonctionnant avec des broches de contrôle en basse ou très basse tension (3.3V ou 1.8V) au lieu des 5V que propose l'Arduino.\n",
    "\n",
    "On utilise les GPIO 22 23 24 correspondant aux Broches 15 16 et 18 de la Raspberry Pi. On teste la variation d'éclairement de 15% à 65% par pas de 5% et le clignotement avec  une fréquence de 8 Hz."
   ]
  },
  {
   "cell_type": "code",
   "execution_count": 25,
   "metadata": {
    "collapsed": false
   },
   "outputs": [],
   "source": [
    "import RPi.GPIO as gpio, time\n",
    "gpio.setmode(gpio.BOARD)  # choisir BCM ou BOARD pour identifier les broches. Ici BOARD\n",
    "\n",
    "dur = 0.25\n",
    "gpio.setup(15, gpio.OUT)# GPIO 22 broche 15 output  \n",
    "gpio.setup(16, gpio.OUT)# GPIO 23 broche 16 output \n",
    "gpio.setup(18, gpio.OUT)# GPIO 24 broche 18 output  \n"
   ]
  },
  {
   "cell_type": "code",
   "execution_count": 27,
   "metadata": {
    "collapsed": false
   },
   "outputs": [],
   "source": [
    "pg = gpio.PWM(15, 200)    # led verte crée un objet pg  PWM sur le port GPIO22 à 200 Hertz  T=5ms \n",
    "pb = gpio.PWM(16, 200)    # led bleue crée un objet pb  PWM sur le port GPIO23 à 200 Hertz  T=5ms \n",
    "pr = gpio.PWM(18, 200)    # led rouge crée un objet pr  PWM sur le port GPIO24 à 200 Hertz  T=5ms \n",
    "\n",
    "# Allumage successif des 3 LEDs et changement d'intensité  \n",
    "pr.start(15)             # allumage à 15 % (15% duty cycle) \n",
    "time.sleep(dur)\n",
    "for i in range(15,100,5) :\n",
    "    pr.ChangeDutyCycle(i)   # passage à 80% par pas de 5%\n",
    "    time.sleep(dur)\n",
    "pr.ChangeFrequency(18)   # passage de la fréquence à 8 Hz  \n",
    "time.sleep(10*dur)\n",
    "pr.stop()\n",
    "pg.start(15)             # allumage à 15 % (15% duty cycle)   \n",
    "time.sleep(dur)\n",
    "for i in range(15,100,5) :\n",
    "    pg.ChangeDutyCycle(i)   # passage à 80% par pas de 5% \n",
    "    time.sleep(dur)\n",
    "pg.ChangeFrequency(18)   # passage de la fréquence à 15 Hz  \n",
    "time.sleep(10*dur)\n",
    "pg.stop()\n",
    "pb.start(15)             # allumage à 15 % (15% duty cycle)   \n",
    "time.sleep(dur)\n",
    "for i in range(15,100,5) :\n",
    "    pb.ChangeDutyCycle(i)   # passage à 80% par pas de 5%\n",
    "    time.sleep(dur)\n",
    "pb.ChangeFrequency(18)   # passage de la fréquence à 18 Hz  \n",
    "time.sleep(10*dur)\n",
    "pb.stop()"
   ]
  },
  {
   "cell_type": "code",
   "execution_count": 45,
   "metadata": {
    "collapsed": false
   },
   "outputs": [],
   "source": [
    "gpio.cleanup()          #nettoyage de l'état du gpio  \n"
   ]
  },
  {
   "cell_type": "markdown",
   "metadata": {
    "collapsed": true
   },
   "source": [
    "## Création d'un arc-en-ciel avec une LED RGB\n",
    "\n",
    "La Led RGB permet de mélanger les couleurs comme cela se passe dans un téléviseur à LED chaque point de l'écran crée la couleur requise en mélangeant les trois couleurs Rouge Vert Bleu dans les proportions adéquates."
   ]
  },
  {
   "cell_type": "code",
   "execution_count": 46,
   "metadata": {
    "collapsed": false
   },
   "outputs": [],
   "source": [
    "import RPi.GPIO as gpio, time\n",
    "import _thread as thread\n",
    "gpio.setmode(gpio.BOARD)  # choisir BCM ou BOARD pour identifier les broches. Ici BOARD\n",
    "\n",
    "gpio.setup(15, gpio.OUT)# GPIO 22 broche 15 output  \n",
    "gpio.setup(16, gpio.OUT)# GPIO 23 broche 16 output \n",
    "gpio.setup(18, gpio.OUT)# GPIO 24 broche 18 output  \n",
    "\n",
    "pg = gpio.PWM(15, 200)    # led verte crée un objet pg  PWM sur le port GPIO22 à 200 Hertz  T=5ms \n",
    "pb = gpio.PWM(16, 200)    # led bleue crée un objet pb  PWM sur le port GPIO23 à 200 Hertz  T=5ms \n",
    "pr = gpio.PWM(18, 200)    # led rouge crée un objet pr  PWM sur le port GPIO24 à 200 Hertz  T=5ms "
   ]
  },
  {
   "cell_type": "code",
   "execution_count": 54,
   "metadata": {
    "collapsed": false
   },
   "outputs": [
    {
     "name": "stdout",
     "output_type": "stream",
     "text": [
      "Type \"stop\" to stop modulation\n",
      "stop\n"
     ]
    }
   ],
   "source": [
    "\n",
    "dur = 0.25\n",
    "\n",
    "# veille sur l'input\n",
    "def input_thread(CheckInput):\n",
    "    check = input()\n",
    "    CheckInput = CheckInput.append(check)\n",
    "    return\n",
    "\n",
    "def rainbow():\n",
    "    CheckInput = []\n",
    "    thread.start_new_thread(input_thread, (CheckInput,))\n",
    "    print ('Type \"stop\" to stop modulation')\n",
    "    \n",
    "    pr.start(15)             # allumage à 15 % (15% duty cycle) \n",
    "    pg.start(15)             # allumage à 15 % (15% duty cycle) \n",
    "    pb.start(15)             # allumage à 15 % (15% duty cycle) \n",
    "    \n",
    "    while True :\n",
    "        pr.start(0)\n",
    "        for i in range(0,100,5) :\n",
    "            pr.ChangeDutyCycle(i)   # de 0 à 100% par pas de 5% par 0.25s\n",
    "            time.sleep(dur)\n",
    "        pg.start(0)\n",
    "        for i in range(0,100,5) :\n",
    "            pg.ChangeDutyCycle(i)   # de 0 à 100% par pas de 5% par 0.25s\n",
    "            time.sleep(dur)\n",
    "        for i in range(100,0,-5) :\n",
    "            pr.ChangeDutyCycle(i)   # de 0 à 100% par pas de 5% par 0.25s\n",
    "            time.sleep(dur)\n",
    "        pr.stop()\n",
    "        pb.start(0)\n",
    "        for i in range(0,100,5) :\n",
    "            pb.ChangeDutyCycle(i)   # de 0 à 100% par pas de 5% par 0.25s\n",
    "            time.sleep(dur)\n",
    "        for i in range(100,0,-5) :\n",
    "            pg.ChangeDutyCycle(i)   # de 0 à 100% par pas de 5% par 0.25s\n",
    "            time.sleep(dur)\n",
    "        pg.stop()\n",
    "        pr.start(0)\n",
    "        for i in range(0,100,5) :\n",
    "            pr.ChangeDutyCycle(i)   # de 0 à 100% par pas de 5% par 0.25s\n",
    "            time.sleep(dur)\n",
    "        for i in range(100,0,-5) :\n",
    "            pb.ChangeDutyCycle(i)   # de 0 à 100% par pas de 5% par 0.25s\n",
    "            time.sleep(dur)\n",
    "        pb.stop()\n",
    "        # Sortie de boucle infinie\n",
    "        if CheckInput == ['stop']  : \n",
    "            pr.stop()\n",
    "            pg.stop()\n",
    "            pb.stop()\n",
    "            break\n",
    "    return\n",
    "\n",
    "rainbow()\n"
   ]
  },
  {
   "cell_type": "code",
   "execution_count": 52,
   "metadata": {
    "collapsed": true
   },
   "outputs": [],
   "source": [
    "pr.stop()\n",
    "pg.stop()\n",
    "pb.stop()"
   ]
  },
  {
   "cell_type": "code",
   "execution_count": null,
   "metadata": {
    "collapsed": true
   },
   "outputs": [],
   "source": [
    "gpio.cleanup()          #nettoyage de l'état du gpio  "
   ]
  }
 ],
 "metadata": {
  "kernelspec": {
   "display_name": "Python 3",
   "language": "python",
   "name": "python3"
  },
  "language_info": {
   "codemirror_mode": {
    "name": "ipython",
    "version": 3
   },
   "file_extension": ".py",
   "mimetype": "text/x-python",
   "name": "python",
   "nbconvert_exporter": "python",
   "pygments_lexer": "ipython3",
   "version": "3.5.2+"
  }
 },
 "nbformat": 4,
 "nbformat_minor": 2
}
