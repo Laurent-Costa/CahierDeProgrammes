{
 "cells": [
  {
   "cell_type": "markdown",
   "metadata": {
    "deletable": true,
    "editable": true
   },
   "source": [
    "## Comment contrôler 6 LED avec 3 fils de commande seulement ?\n",
    "\n",
    "Dans la vie courante on est habitué à contrôler une ampoule avec deux fils, dans les exercices effectués nous avons aussi utilisé un seul fil de contrôle par LEDs et un fil de masse éventuellement commun à plusieurs LED. Dans l'exemple précédent on a vu qu'en gbranchant les deux LEDs symétriquement il était possible en permuttant la valeur des broches d'obtenir un clignotement. Il existe des dispositifs présentant de nombreuses LEDs contrôlées individuellement ou par groupes, il s'agit par exemple des chenillards lumineux dans les espaces ludiques ou des guirlandes de Noël. Malgré le grand nombre de LEDs ces dispositifs sont contrôlés par un très faible nombre de fils, comment cela est-il possible ?\n",
    "\n",
    "Nous allons aborder un exemple basique permettant de contrôler 6 LED avec 3 fils, le procédé utilisé est le Charlie-Plexing. Ce procédé permet de contrôler avec n fils n * (n-1) LEDs; soit pour nous 3 x 2 = 6.\n",
    "On utilise pour cette partie le montage encadré en rouge ci-dessous.\n",
    "\n",
    "![CharliePlexing à 6 LED](images/ledboard6.png)\n",
    "                        ![licence : Gérard Vidal](images/Licence.jpg)\n",
    "                        \n",
    "Les fils gris représentent les points de branchement des 3 fils de contrôle, le cablage est représenté par les fils rouges. Ce procédé repose sur la possibilité de mettre la broche non pas dans deux mais dans 3 états : \n",
    " * état masse ..............valeur out 0\n",
    " * état alimentation........valeur out 1\n",
    " * état résistance infinie .valeur in Z\n",
    " \n",
    "Le Schéma de principe du fonctionnement est donné dans l'image suivante :\n",
    "\n",
    "![Schéma de principe du CharliePlexing à 6 LED](images/anim6led.gif)\n",
    "                        ![licence : Gérard Vidal](images/Licence.jpg)               \n",
    "\n",
    "Nous représenterons chaque état par la séquence d'abbréviations la caractérisant dans l'ordre des broches 1-2-3. Par exemple 0Z1 signifie que le + est sur la broche 3 que le - est sur la broche 1 et que la broche 2 est bloquée. On a donc les états suivants\n",
    " * 10Z\n",
    " * 1Z0\n",
    " * 01Z\n",
    " * 0Z1\n",
    " * Z10\n",
    " * Z01\n",
    "Cela fournit bien 6 états possibles pour notre circuit à 3 fils. Nous allons **définir** (instruction *def*) 6 ensembles d'instructions permettant chacun de réaliser l'état attendu ce sont des *fonctions* que nous nommerons du nom de l'état du circuit qu'elles provoquent. Nous en produirons une 7ème qui assurera l'enchaînement des états blink6."
   ]
  },
  {
   "cell_type": "code",
   "execution_count": 9,
   "metadata": {
    "collapsed": true,
    "deletable": true,
    "editable": true
   },
   "outputs": [],
   "source": [
    "import mraa, time"
   ]
  },
  {
   "cell_type": "code",
   "execution_count": 10,
   "metadata": {
    "collapsed": true,
    "deletable": true,
    "editable": true
   },
   "outputs": [],
   "source": [
    "led1 = mraa.Gpio(23) # au centre du dispositif\n",
    "led2 = mraa.Gpio(32) # 2eme broche\n",
    "led3 = mraa.Gpio(33) # broche à l'extrémité\n",
    "dur = 0.05"
   ]
  },
  {
   "cell_type": "code",
   "execution_count": 11,
   "metadata": {
    "collapsed": true,
    "deletable": true,
    "editable": true
   },
   "outputs": [],
   "source": [
    "def iosense_OOI():\n",
    "    led1.dir(mraa.DIR_OUT)\n",
    "    led2.dir(mraa.DIR_OUT)\n",
    "    led3.dir(mraa.DIR_IN)\n",
    "    return\n",
    "\n",
    "def iosense_OIO():\n",
    "    led1.dir(mraa.DIR_OUT)\n",
    "    led2.dir(mraa.DIR_IN)\n",
    "    led3.dir(mraa.DIR_OUT)\n",
    "    return\n",
    "\n",
    "def iosense_IOO():\n",
    "    led1.dir(mraa.DIR_IN)\n",
    "    led2.dir(mraa.DIR_OUT)\n",
    "    led3.dir(mraa.DIR_OUT)\n",
    "    return\n",
    "\n",
    "def etat_10Z(a,b,c) :\n",
    "    iosense_OOI()\n",
    "    led1.write(1)\n",
    "    led2.write(0)\n",
    "    time.sleep(dur)\n",
    "    return\n",
    "\n",
    "def etat_1Z0(a,b,c) :\n",
    "    iosense_OIO()\n",
    "    led1.write(1)\n",
    "    led3.write(0)\n",
    "    time.sleep(dur)\n",
    "    return\n",
    "\n",
    "def etat_01Z(a,b,c) :\n",
    "    iosense_OOI()\n",
    "    led1.write(0)\n",
    "    led2.write(1)\n",
    "    time.sleep(dur)\n",
    "    return\n",
    "\n",
    "def etat_0Z1(a,b,c) :\n",
    "    iosense_OIO()\n",
    "    led1.write(0)\n",
    "    led3.write(1)\n",
    "    time.sleep(dur)\n",
    "    return\n",
    "\n",
    "def etat_Z10(a,b,c) :\n",
    "    iosense_IOO()\n",
    "    led2.write(1)\n",
    "    led3.write(0)\n",
    "    time.sleep(dur)\n",
    "    return\n",
    "\n",
    "def etat_Z01(a,b,c) :\n",
    "    iosense_IOO()\n",
    "    led2.write(0)\n",
    "    led3.write(1)\n",
    "    time.sleep(dur)\n",
    "    return\n",
    "\n",
    "def etat_000(a,b,c) :\n",
    "    led1.dir(mraa.DIR_IN)\n",
    "    led2.dir(mraa.DIR_IN)\n",
    "    led3.dir(mraa.DIR_IN)\n",
    "    return\n",
    "\n",
    "\n",
    "def blink6(leda,ledb,ledc) :\n",
    "    for i in range(40) :\n",
    "        etat_01Z(leda,ledb,ledc)\n",
    "        etat_10Z(leda,ledb,ledc)\n",
    "        etat_0Z1(leda,ledb,ledc)\n",
    "        etat_1Z0(leda,ledb,ledc)\n",
    "        etat_Z01(leda,ledb,ledc)     \n",
    "        etat_Z10(leda,ledb,ledc)\n",
    "        etat_000(leda,ledb,ledc)\n",
    "        etat_Z10(leda,ledb,ledc)\n",
    "        etat_Z01(leda,ledb,ledc)\n",
    "        etat_1Z0(leda,ledb,ledc)\n",
    "        etat_0Z1(leda,ledb,ledc)\n",
    "        etat_10Z(leda,ledb,ledc)\n",
    "        etat_01Z(leda,ledb,ledc)\n",
    "    etat_000(leda,ledb,ledc)\n",
    "    return\n",
    "\n",
    "blink6(led1,led2,led3)"
   ]
  },
  {
   "cell_type": "markdown",
   "metadata": {
    "deletable": true,
    "editable": true
   },
   "source": [
    "## Création d'un arc-en-ciel avec une LED RGB\n",
    "\n",
    "La Led RGB permet de mélanger les couleurs comme cela se passe dans un téléviseur à LED. Chaque point de l'écran crée la couleur requise en mélangeant les trois couleurs Rouge Vert Bleu dans les proportions adéquates. Une nouvelle bibliothèque est ajoutée afin de déyecter les entrées au clavier pendant l'excution des tâches."
   ]
  },
  {
   "cell_type": "code",
   "execution_count": 12,
   "metadata": {
    "collapsed": false,
    "deletable": true,
    "editable": true
   },
   "outputs": [],
   "source": [
    "import RPi.GPIO as gpio, time\n",
    "gpio.setmode(gpio.BOARD)  # choisir BCM ou BOARD pour identifier les broches. Ici BOARD\n",
    "import _thread as thread\n",
    "\n",
    "gpio.setup(15, gpio.OUT)# GPIO 22 broche 15 output  \n",
    "gpio.setup(16, gpio.OUT)# GPIO 23 broche 16 output \n",
    "gpio.setup(18, gpio.OUT)# GPIO 24 broche 18 output  \n",
    "\n",
    "pb = gpio.PWM(15, 200)    # led verte crée un objet pg  PWM sur le port GPIO22 à 200 Hertz  T=5ms \n",
    "pg = gpio.PWM(16, 200)    # led bleue crée un objet pb  PWM sur le port GPIO23 à 200 Hertz  T=5ms \n",
    "pr = gpio.PWM(18, 200)    # led rouge crée un objet pr  PWM sur le port GPIO24 à 200 Hertz  T=5ms "
   ]
  },
  {
   "cell_type": "code",
   "execution_count": 13,
   "metadata": {
    "collapsed": false,
    "deletable": true,
    "editable": true
   },
   "outputs": [
    {
     "name": "stdout",
     "output_type": "stream",
     "text": [
      "Type \"stop\" to stop modulation\n",
      "stop\n"
     ]
    }
   ],
   "source": [
    "\n",
    "dur = 0.15\n",
    "\n",
    "# veille sur l'input\n",
    "def input_thread(CheckInput):\n",
    "    check = input()\n",
    "#    CheckInput = CheckInput.append(check)\n",
    "    CheckInput.append(check)\n",
    "    return\n",
    "\n",
    "def rainbow():\n",
    "    CheckInput = []\n",
    "    thread.start_new_thread(input_thread, (CheckInput,))\n",
    "    print ('Type \"stop\" to stop modulation')\n",
    "    \n",
    "    pr.start(0)             # allumage à 0 % (0% duty cycle) \n",
    "    for i in range(0,100,5) :\n",
    "        pr.ChangeDutyCycle(i)   # de 0 à 100% par pas de 5% par 0.25s\n",
    "        time.sleep(dur)\n",
    "        \n",
    "    while True :\n",
    "        pg.start(0)             # allumage à 0 % (0% duty cycle) \n",
    "        for i in range(0,100,5) :\n",
    "            pg.ChangeDutyCycle(i)   # de 0 à 100% par pas de 5% par 0.25s\n",
    "            time.sleep(dur)\n",
    "        for i in range(100,0,-5) :\n",
    "            pr.ChangeDutyCycle(i)   # de 0 à 100% par pas de 5% par 0.25s\n",
    "            time.sleep(dur)\n",
    "        pr.stop()\n",
    "        pb.start(0)             # allumage à 0 % (0% duty cycle) \n",
    "        for i in range(0,100,5) :\n",
    "            pb.ChangeDutyCycle(i)   # de 0 à 100% par pas de 5% par 0.25s\n",
    "            time.sleep(dur)\n",
    "        for i in range(100,0,-5) :\n",
    "            pg.ChangeDutyCycle(i)   # de 0 à 100% par pas de 5% par 0.25s\n",
    "            time.sleep(dur)\n",
    "        pg.stop()\n",
    "        pr.start(0)             # allumage à 0 % (0% duty cycle) \n",
    "        for i in range(0,100,5) :\n",
    "            pr.ChangeDutyCycle(i)   # de 0 à 100% par pas de 5% par 0.25s\n",
    "            time.sleep(dur)\n",
    "        for i in range(100,0,-5) :\n",
    "            pb.ChangeDutyCycle(i)   # de 0 à 100% par pas de 5% par 0.25s\n",
    "            time.sleep(dur)\n",
    "        pb.stop()\n",
    "        \n",
    "        # Sortie de boucle infinie\n",
    "        if CheckInput == ['stop']  : \n",
    "            pr.stop()\n",
    "            pg.stop()\n",
    "            pb.stop()            \n",
    "            break\n",
    "    return\n",
    "\n",
    "\n",
    "rainbow()\n"
   ]
  },
  {
   "cell_type": "code",
   "execution_count": 14,
   "metadata": {
    "collapsed": false,
    "deletable": true,
    "editable": true
   },
   "outputs": [],
   "source": [
    "pr.stop()\n",
    "pg.stop()\n",
    "pb.stop()"
   ]
  },
  {
   "cell_type": "code",
   "execution_count": 15,
   "metadata": {
    "collapsed": true,
    "deletable": true,
    "editable": true
   },
   "outputs": [],
   "source": [
    "gpio.cleanup()          #nettoyage de l'état du gpio  "
   ]
  },
  {
   "cell_type": "code",
   "execution_count": null,
   "metadata": {
    "collapsed": true,
    "deletable": true,
    "editable": true
   },
   "outputs": [],
   "source": []
  }
 ],
 "metadata": {
  "kernelspec": {
   "display_name": "Python 3",
   "language": "python",
   "name": "python3"
  },
  "language_info": {
   "codemirror_mode": {
    "name": "ipython",
    "version": 3
   },
   "file_extension": ".py",
   "mimetype": "text/x-python",
   "name": "python",
   "nbconvert_exporter": "python",
   "pygments_lexer": "ipython3",
   "version": "3.5.3"
  }
 },
 "nbformat": 4,
 "nbformat_minor": 2
}
