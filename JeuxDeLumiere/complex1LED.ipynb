{
 "cells": [
  {
   "cell_type": "markdown",
   "metadata": {},
   "source": [
    "# Quelques utilisations avancées des LED\n",
    "\n",
    "Le [premier cahier](https://github.com/g-vidal/CahierDeProgrammes/blob/master/JeuxDeLumiere/simpleLED.ipynb) a permis de se familiariser avec le pilotage à distance par des programmes et une interface web de diodes électroluminescentes. Celui-ci aborde quelques points plus avancés tirant profit de la polarité des LEDs ou permettant de compenser l'intensité du courant insuffisante pour allumer les LEDs"
   ]
  },
  {
   "cell_type": "markdown",
   "metadata": {},
   "source": [
    "## Utilisation de transistors pour augmenter l'intensité traversant une LED\n",
    "\n",
    "Le objets connectés comme l'Edison ou la Raspberry Pi sont conçus pour être peu gourmands en électricité ce qui se traduit par des intensités plus faibles délivrées par les broches du GPIO. On se retrouve confrontés au problème inverse de celui qui faisait \"griller\" les LEDs parce que l'intensité délivrée par les micro-contrôleurs était trop forte. Comme il fallait ajouter un nouveau composant de protection (une résistance) il faut ajouter ici un composant supplémentaire pour rehausser l'intensité et bien sur apporter une source de courant externe. le montage utilisé est encadré sur l'image ci_dessous:\n",
    "\n",
    "![Alimentation de deux LEDs avec transistor](images/ledboard4.png)\n",
    "                        ![licence : Gérard Vidal](images/Licence.jpg)\n",
    "\n",
    "Une alimentation 1.8V ou 3.3V (suivant la tension disponible sur l'IoT concerné) est branchée sur les fils rouge et noir, les fils de modulation broche 32 et 33 selon la même nomenclature que le premier cahier dans la continuité des deux résistances extérieiures. Le code ci-dessous permet de contrôler l'allumage et l'extincton des diodes (Leds) rouge et verte.\n",
    "* importation des programmes de la bibliothèque mraa\n",
    "* déclaration de l'utilisation des broches 32 et 33 GPIO12 et GPIO13"
   ]
  },
  {
   "cell_type": "code",
   "execution_count": 1,
   "metadata": {
    "collapsed": true
   },
   "outputs": [],
   "source": [
    "import mraa, time\n",
    "ledg = mraa.Gpio(32)\n",
    "ledr = mraa.Gpio(33)"
   ]
  },
  {
   "cell_type": "markdown",
   "metadata": {},
   "source": [
    "* Choix du sens de travail de la broche *out* pour envoyer une intensité dans le circuit"
   ]
  },
  {
   "cell_type": "code",
   "execution_count": 2,
   "metadata": {
    "collapsed": false
   },
   "outputs": [
    {
     "data": {
      "text/plain": [
       "0"
      ]
     },
     "execution_count": 2,
     "metadata": {},
     "output_type": "execute_result"
    }
   ],
   "source": [
    "ledg.dir(mraa.DIR_OUT)\n",
    "ledr.dir(mraa.DIR_OUT)"
   ]
  },
  {
   "cell_type": "markdown",
   "metadata": {},
   "source": [
    "Mise en place du clignotement pendant 1 minute avec une fréquence d'un clignotement par seconde pour l'une et de 2 clignotements par seconde pour l'autre"
   ]
  },
  {
   "cell_type": "code",
   "execution_count": 3,
   "metadata": {
    "collapsed": false
   },
   "outputs": [],
   "source": [
    "for i in range(0,240,1) :\n",
    "    j = 2 \n",
    "    k = 4 \n",
    "    if (i % k == 0):\n",
    "        if ((i / k) % 2 == 0):\n",
    "            ledr.write(1)\n",
    "        else :\n",
    "            ledr.write(0)\n",
    "    if (i % j == 0):\n",
    "        ledg.write(1)\n",
    "        time.sleep(0.25)\n",
    "    else :\n",
    "        ledg.write(0)\n",
    "        time.sleep(0.25)\n"
   ]
  },
  {
   "cell_type": "markdown",
   "metadata": {},
   "source": [
    "### Exercice \n",
    "\n",
    "Modifier l'alimentation des transistors  et observer l'effet sur les diodes (Leds). Choisir d'autres fréquences d'échantillonnage, décrire le clignotement attendu, écrire le programme correspondant"
   ]
  },
  {
   "cell_type": "code",
   "execution_count": null,
   "metadata": {
    "collapsed": true
   },
   "outputs": [],
   "source": [
    "for i in range(-,-,-) :\n",
    "    j = - \n",
    "    k = - \n",
    "    if (i % k == -):\n",
    "        \n",
    "    else :\n"
   ]
  },
  {
   "cell_type": "markdown",
   "metadata": {},
   "source": [
    "## Clignotement utilisant deux broches de contrôle et pas de masse\n",
    "\n",
    "Comme nous l'avons vu dans les différents programmes les broches du GPIO que nous avons utilisées ont deux positions possibles soit elles envoient du courant soit leur potentiel est à 0. Si l'on connecte une diode (Led) à deux broches l'une au maximum (1) l'autre à 0 la diode (Led) va être parcourue par un courant et s'allumer. Si on permute la valeur des deux broches (Leds) la diode s'éteint mais si on permute le branchement elle se rallume. Nous allons utiliser le montage encadré ci'dessous où deux diodes (Leds) sont insérées dans la plaque en parallèle et l'une permutée par rapport à l'autre. \n",
    "\n",
    "![Alimentation de deux LEDs par deux broches](images/ledboard3.png)\n",
    "                        ![licence : Gérard Vidal](images/Licence.jpg)\n",
    "                        \n",
    "Il est possible de représenter la situation sur un dessin illustrant le branchement et l'activité des diodes:\n",
    "\n",
    "![Schéma de deux LEDs dont le branchement est permutté](images/altern2.png)\n",
    "                        ![licence : Gérard Vidal](images/Licence.jpg)\n",
    "                        \n",
    "Nous utilisons les broches 32 et 33 l'une branchée sur le fil commun l'autre dans la continuité de la résistance. Noter qu'**il est impossible d'allumer simultanément les deux diodes**.\n",
    "On utilise les déclarations précédentes des leds rouge et verte ler ledg, on met en place un clignotement symétrique de 1/10ème de seconde pour la verte et asymétrique 2/10ème-3/10ème pour la rouge.\n"
   ]
  },
  {
   "cell_type": "code",
   "execution_count": 5,
   "metadata": {
    "collapsed": false
   },
   "outputs": [],
   "source": [
    "for i in range(0,90,1) :\n",
    "    ledr.write(0)\n",
    "    for j in range(4) :\n",
    "        ledg.write(0)\n",
    "        time.sleep(0.1)\n",
    "        ledg.write(1)\n",
    "        time.sleep(0.1)\n",
    "    ledg.write(0)\n",
    "    for j in range(3) :\n",
    "        ledr.write(1)\n",
    "        time.sleep(0.3)\n",
    "        ledr.write(0)\n",
    "        time.sleep(0.2)"
   ]
  },
  {
   "cell_type": "markdown",
   "metadata": {},
   "source": [
    "### exercice \n",
    "\n",
    "Mettre en place un clignotement symétrique simple des diodes (LEDs) rouge/verte. Décrire un clignotement plus complexe et le programmer."
   ]
  },
  {
   "cell_type": "code",
   "execution_count": null,
   "metadata": {
    "collapsed": true
   },
   "outputs": [],
   "source": [
    "for i in range(-,-,-) :"
   ]
  },
  {
   "cell_type": "markdown",
   "metadata": {},
   "source": [
    "## Comment contrôler 6 LED avec 3 fils de commande seulement ?\n",
    "\n",
    "Dans la vie courante on est habitué à contrôler une ampoule avec deux fils, dans les exercices effectués nous avons aussi utilisé un seul fil de contrôle par LEDs et un fil de masse éventuellement commun à plusieurs LED. Dans l'exemple précédent on a vu qu'en gbranchant les deux LEDs symétriquement il était possible en permuttant la valeur des broches d'obtenir un clignotement. Il existe des dispositifs présentant de nombreuses LEDs contrôlées individuellement ou par groupes, il s'agit par exemple des chenillards lumineux dans les espaces ludiques ou des guirlandes de Noël. Malgré le grand nombre de LEDs ces dispositifs sont contrôlés par un très faible nombre de fils, comment cela est-il possible ?\n",
    "\n",
    "Nous allons aborder un exemple basique permettant de contrôler 6 LED avec 3 fils, le procédé utilisé est le Charlie-Plexing. Ce procédé permet de contrôler avec n fils n * (n-1) LEDs; soit pour nous 3 x 2 = 6.\n",
    "On utilise pour cette partie le montage encadré en rouge ci-dessous.\n",
    "\n",
    "![CharliePlexing à 6 LED](images/ledboard6.png)\n",
    "                        ![licence : Gérard Vidal](images/Licence.jpg)\n",
    "                        \n",
    "Les fils gris représentent les points de branchement des 3 fils de contrôle, le cablage est représenté par les fils rouges. Ce procédé repose sur la possibilité de mettre la broche non pas dans deux mais dans 3 états : \n",
    " * état masse ..............valeur out 0\n",
    " * état alimentation........valeur out 1\n",
    " * état résistance infinie .valeur in Z\n",
    " \n",
    "Le Schéma de principe du fonctionnement est donné dans l'image suivante :\n",
    "\n",
    "![Schéma de principe du CharliePlexing à 6 LED](images/charlie6.png)\n",
    "                        ![licence : Gérard Vidal](images/Licence.jpg)               \n",
    "\n",
    "Nous représenterons chaque état par la séquence d'abbréviations la caractérisant dans l'ordre des broches 1-2-3. Par exemple 0Z1 signifie que le + est sur la broche 3 que le - est sur la broche 1 et que la broche 2 est bloquée. On a donc les états suivants\n",
    " * 10Z\n",
    " * 1Z0\n",
    " * 01Z\n",
    " * 0Z1\n",
    " * Z10\n",
    " * Z01\n",
    "Cela fournit bien 6 états possibles pour notre circuit à 3 fils. Nous allons **définir** (instruction *def*) 6 ensembles d'instructions permettant chacun de réaliser l'état attendu ce sont des *fonctions* que nous nommerons du nom de l'état du circuit qu'elles provoquent. Nous en produirons une 7ème qui assurera l'enchaînement des états blink6."
   ]
  },
  {
   "cell_type": "code",
   "execution_count": 11,
   "metadata": {
    "collapsed": true
   },
   "outputs": [],
   "source": [
    "import mraa, time"
   ]
  },
  {
   "cell_type": "code",
   "execution_count": 12,
   "metadata": {
    "collapsed": false
   },
   "outputs": [],
   "source": [
    "led1 = mraa.Gpio(23)\n",
    "led2 = mraa.Gpio(32)\n",
    "led3 = mraa.Gpio(33)\n",
    "dur = 0.05"
   ]
  },
  {
   "cell_type": "code",
   "execution_count": 15,
   "metadata": {
    "collapsed": false
   },
   "outputs": [],
   "source": [
    "def etat_10Z(a,b,c) :\n",
    "    led1.dir(mraa.DIR_OUT)\n",
    "    led2.dir(mraa.DIR_OUT)\n",
    "    led3.dir(mraa.DIR_IN)\n",
    "    led1.write(1)\n",
    "    led2.write(0)\n",
    "    time.sleep(dur)\n",
    "    return\n",
    "\n",
    "def etat_1Z0(a,b,c) :\n",
    "    led1.dir(mraa.DIR_OUT)\n",
    "    led2.dir(mraa.DIR_IN)\n",
    "    led3.dir(mraa.DIR_OUT)\n",
    "    led1.write(1)\n",
    "    led3.write(0)\n",
    "    time.sleep(dur)\n",
    "    return\n",
    "\n",
    "def etat_01Z(a,b,c) :\n",
    "    led1.dir(mraa.DIR_OUT)\n",
    "    led2.dir(mraa.DIR_OUT)\n",
    "    led3.dir(mraa.DIR_IN)\n",
    "    led1.write(0)\n",
    "    led2.write(1)\n",
    "    time.sleep(dur)\n",
    "    return\n",
    "\n",
    "def etat_0Z1(a,b,c) :\n",
    "    led1.dir(mraa.DIR_OUT)\n",
    "    led2.dir(mraa.DIR_IN)\n",
    "    led3.dir(mraa.DIR_OUT)\n",
    "    led1.write(0)\n",
    "    led3.write(1)\n",
    "    time.sleep(dur)\n",
    "    return\n",
    "\n",
    "def etat_Z10(a,b,c) :\n",
    "    led1.dir(mraa.DIR_IN)\n",
    "    led2.dir(mraa.DIR_OUT)\n",
    "    led3.dir(mraa.DIR_OUT)\n",
    "    led2.write(1)\n",
    "    led3.write(0)\n",
    "    time.sleep(dur)\n",
    "    return\n",
    "\n",
    "def etat_Z01(a,b,c) :\n",
    "    led1.dir(mraa.DIR_IN)\n",
    "    led2.dir(mraa.DIR_OUT)\n",
    "    led3.dir(mraa.DIR_OUT)\n",
    "    led2.write(0)\n",
    "    led3.write(1)\n",
    "    time.sleep(dur)\n",
    "    return\n",
    "\n",
    "def etat_000(a,b,c) :\n",
    "    led1.dir(mraa.DIR_IN)\n",
    "    led2.dir(mraa.DIR_IN)\n",
    "    led3.dir(mraa.DIR_IN)\n",
    "    return\n",
    "\n",
    "\n",
    "def blink6(leda,ledb,ledc) :\n",
    "    for i in range(20) :\n",
    "        etat_01Z(leda,ledb,ledc)\n",
    "        etat_10Z(leda,ledb,ledc)\n",
    "        etat_0Z1(leda,ledb,ledc)\n",
    "        etat_1Z0(leda,ledb,ledc)\n",
    "        etat_Z01(leda,ledb,ledc)     \n",
    "        etat_Z10(leda,ledb,ledc)\n",
    "        etat_000(leda,ledb,ledc)\n",
    "        etat_Z10(leda,ledb,ledc)\n",
    "        etat_Z01(leda,ledb,ledc)\n",
    "        etat_1Z0(leda,ledb,ledc)\n",
    "        etat_0Z1(leda,ledb,ledc)\n",
    "        etat_10Z(leda,ledb,ledc)\n",
    "        etat_01Z(leda,ledb,ledc)\n",
    "    etat_000(leda,ledb,ledc)\n",
    "    return\n",
    "\n",
    "blink6(led1,led2,led3)"
   ]
  },
  {
   "cell_type": "markdown",
   "metadata": {},
   "source": [
    "### Exercices\n",
    "\n",
    "- Modifier la fréquence de balayage \n",
    "- Faire un balayage dans un seul sens\n",
    "- Changer le mode de balayage (par exemple +2 -1)"
   ]
  },
  {
   "cell_type": "markdown",
   "metadata": {},
   "source": [
    "## Utilisation d'une LED RGB\n",
    "\n",
    "Plusieurs types de LED RGB existent dans le commerce, certaines ont une *cathode commune* d'autres ont une *anode commune*. Les branchements sont différents et il est important de bien comprendre quel sera le sens du courant et quelle sera la tension aux différentes bornes avant de faire les branchements sous peine de **détruire** la nano machine utilsée. Les branchements pour Arduino (5v) que l'on trouve sur le web ne conviennent pas forcément pour un Edison (1.8V) ou un Raspberry PI (3.3V). Une des solutions pour éviter les catastrophes est d'utiliser un transistor (qui impose une réflexion plus avancée sur les branchements à réaliser et bien sûr une maîtrise de la puissance fournie). \n",
    "\n",
    "Dans ce qui suit nous utilisons une LED RGB à **cathode commune** et nous proposons un branchement direct utilisant une source 3.3V. Des résistances permettent d'harmoniser les tensions.\n",
    "\n",
    "![Montage d'une LED RGB à cathode commune](images/ledboard5.png)\n",
    "                        ![licence : Gérard Vidal](images/Licence.jpg)\n",
    "                        \n",
    "La terre est branchée sur le fil noir les trois connecteurs GPIO 22 23 24  sont branchés respectivement dans les trous 24 26 et 28 de la plaque d'essai.\n",
    "Le programme ci dessous :\n",
    " * allume la diode rouge pendant 0.25s à 15% de la puissance max (fréquence 200Hz)\n",
    " * augmente la puissance jusqu'à 80% par pas de 5% et intervalle de 0.25s\n",
    " * fait clignoter la LED à une fréquence de 8Hz Rouge 15 Hz Vert et 18 Hz bleu\n",
    " "
   ]
  },
  {
   "cell_type": "code",
   "execution_count": 33,
   "metadata": {
    "collapsed": false
   },
   "outputs": [],
   "source": [
    "import RPi.GPIO as gpio, time\n",
    "gpio.setmode(gpio.BOARD)  # choisir BCM ou BOARD pour identifier les broches. Nous avons choisi BOARD\n",
    "\n",
    "dur = 0.25\n",
    "gpio.setup(15, gpio.OUT)# GPIO 22 broche 15 output  \n",
    "gpio.setup(16, gpio.OUT)# GPIO 23 broche 16 output \n",
    "gpio.setup(18, gpio.OUT)# GPIO 24 broche 18 output  \n"
   ]
  },
  {
   "cell_type": "code",
   "execution_count": 34,
   "metadata": {
    "collapsed": false
   },
   "outputs": [],
   "source": [
    "  \n",
    "pr = gpio.PWM(18, 200)    # led rouge crée un objet pr  PWM sur le port GPIO22 à 200 Hertz  T=5ms \n",
    "pg = gpio.PWM(15, 200)    # led verte crée un objet pg  PWM sur le port GPIO22 à 200 Hertz  T=5ms \n",
    "pb = gpio.PWM(16, 200)    # led bleue crée un objet pb  PWM sur le port GPIO22 à 200 Hertz  T=5ms \n",
    "\n",
    "# Allumage successif des 3 LEDs et changement d'intensité  \n",
    "pr.start(15)             # allumage à 15 % (15% duty cycle) \n",
    "time.sleep(dur)\n",
    "for i in range(15,80,5) :\n",
    "    pr.ChangeDutyCycle(i)   # passage à 80% par pas de 5%\n",
    "    time.sleep(dur)\n",
    "pr.ChangeFrequency(8)   # passage de la fréquence à 8 Hz  \n",
    "time.sleep(10*dur)\n",
    "pr.stop()\n",
    "pg.start(15)             # allumage à 15 % (15% duty cycle)   \n",
    "time.sleep(dur)\n",
    "for i in range(15,80,5) :\n",
    "    pg.ChangeDutyCycle(i)   # passage à 80% par pas de 5% \n",
    "    time.sleep(dur)\n",
    "pg.ChangeFrequency(15)   # passage de la fréquence à 15 Hz  \n",
    "time.sleep(10*dur)\n",
    "pg.stop()\n",
    "pb.start(15)             # allumage à 15 % (15% duty cycle)   \n",
    "time.sleep(dur)\n",
    "for i in range(15,80,5) :\n",
    "    pb.ChangeDutyCycle(i)   # passage à 80% par pas de 5%\n",
    "    time.sleep(dur)\n",
    "pb.ChangeFrequency(18)   # passage de la fréquence à 18 Hz  \n",
    "time.sleep(10*dur)\n",
    "pb.stop()"
   ]
  },
  {
   "cell_type": "code",
   "execution_count": 30,
   "metadata": {
    "collapsed": false
   },
   "outputs": [],
   "source": [
    "gpio.cleanup()          #nettoyage de l'état du gpio  "
   ]
  },
  {
   "cell_type": "code",
   "execution_count": null,
   "metadata": {
    "collapsed": true
   },
   "outputs": [],
   "source": []
  }
 ],
 "metadata": {
  "anaconda-cloud": {},
  "kernelspec": {
   "display_name": "Python 3",
   "language": "python",
   "name": "python3"
  },
  "language_info": {
   "codemirror_mode": {
    "name": "ipython",
    "version": 3
   },
   "file_extension": ".py",
   "mimetype": "text/x-python",
   "name": "python",
   "nbconvert_exporter": "python",
   "pygments_lexer": "ipython3",
   "version": "3.5.3rc1"
  }
 },
 "nbformat": 4,
 "nbformat_minor": 2
}
