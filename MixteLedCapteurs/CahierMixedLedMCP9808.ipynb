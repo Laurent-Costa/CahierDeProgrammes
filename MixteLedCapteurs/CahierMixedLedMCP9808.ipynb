{
 "cells": [
  {
   "cell_type": "markdown",
   "metadata": {
    "deletable": true,
    "editable": true
   },
   "source": [
    "# Cahier de programme : Couplage Leds et Capteur de température.\n",
    "\n",
    "## objectif : \n",
    "\n",
    "Réaliser un programme qui donne une indication sur la température avec un changement de couleur de led."
   ]
  },
  {
   "cell_type": "code",
   "execution_count": 1,
   "metadata": {
    "collapsed": false,
    "deletable": true,
    "editable": true
   },
   "outputs": [
    {
     "data": {
      "text/plain": [
       "0"
      ]
     },
     "execution_count": 1,
     "metadata": {},
     "output_type": "execute_result"
    }
   ],
   "source": [
    "#!/usr/bin/env python\n",
    "# -*- coding: utf-8 -*-\n",
    "\n",
    "import mraa\n",
    "import upm\n",
    "import time\n",
    "\n",
    "# LEDs pilotées par la broche 32 verte et la broche 33 rouge\n",
    "ledg = mraa.Gpio(32)\n",
    "ledr = mraa.Gpio(33)\n",
    "time.sleep(0.1)\n",
    "# Broches positionnées en sortie\n",
    "ledg.dir(mraa.DIR_OUT)\n",
    "ledr.dir(mraa.DIR_OUT)"
   ]
  },
  {
   "cell_type": "code",
   "execution_count": 8,
   "metadata": {
    "collapsed": false,
    "deletable": true,
    "editable": true
   },
   "outputs": [
    {
     "name": "stdout",
     "output_type": "stream",
     "text": [
      "LED Verte allumée 5 secondes\n",
      "LED Rouge allumée 5 secondes\n",
      "LEDs éteintes\n"
     ]
    },
    {
     "data": {
      "text/plain": [
       "0"
      ]
     },
     "execution_count": 8,
     "metadata": {},
     "output_type": "execute_result"
    }
   ],
   "source": [
    "#!/usr/bin/env python\n",
    "# -*- coding: utf-8 -*-\n",
    "\n",
    "# Extinction des LEDs\n",
    "ledg.write(0)\n",
    "ledr.write(0)\n",
    "print (\"LED Verte allumée 5 secondes\")\n",
    "ledg.write(1)\n",
    "time.sleep(5)\n",
    "ledg.write(0)\n",
    "print (\"LED Rouge allumée 5 secondes\")\n",
    "ledr.write(1)\n",
    "time.sleep(5)\n",
    "print(\"LEDs éteintes\")\n",
    "ledr.write(0)"
   ]
  },
  {
   "cell_type": "markdown",
   "metadata": {
    "deletable": true,
    "editable": true
   },
   "source": [
    "# Alerte dépassement de température\n",
    "\n",
    "Ce programme vous permet d'allumer une led verte tant que la température est inférieure à 25 °C et une led rouge si la température dépasse 25 °C\n",
    "\n",
    "Repérez les déclarations liées au GPIO qui pilote vos leds rouge et verte. La nomenclature des ports du GPIO a été choisie pour correspondre à ce qui est écrit sur le T-Cobbler plus."
   ]
  },
  {
   "cell_type": "code",
   "execution_count": 3,
   "metadata": {
    "collapsed": false,
    "deletable": true,
    "editable": true
   },
   "outputs": [
    {
     "name": "stdout",
     "output_type": "stream",
     "text": [
      "Alerte rouge si la température dépasse 25 °C\n",
      "Saisissez le nombre de mesures souhaitées : 15\n",
      "Saisissez l'intervalle entre 2 mesures en secondes : 1\n",
      "20.56 °C  ; 20.56 °C  ; 20.50 °C  ; 21.94 °C  ; 24.31 °C  ; 24.94 °C  ; 25.19 °C  ; 25.25 °C  ; 23.56 °C  ; 22.75 °C  ; 22.31 °C  ; 22.06 °C  ; 21.88 °C  ; 21.75 °C  ; 21.62 °C  ; "
     ]
    },
    {
     "data": {
      "text/plain": [
       "0"
      ]
     },
     "execution_count": 3,
     "metadata": {},
     "output_type": "execute_result"
    }
   ],
   "source": [
    "#!/usr/bin/env python\n",
    "# -*- coding: utf-8 -*-\n",
    "\n",
    "print(\"Alerte rouge si la température dépasse 25 °C\")\n",
    "from upm import pyupm_mcp9808 as mcp\n",
    "mcp = mcp.MCP9808(0)\n",
    "#ledg = mraa.Gpio(32)\n",
    "#ledr = mraa.Gpio(33)\n",
    "# Broches positionnées en sortie\n",
    "#ledg.dir(mraa.DIR_OUT)\n",
    "#ledr.dir(mraa.DIR_OUT)\n",
    "#bme.update()\n",
    "nombremesures=int(input(\"Saisissez le nombre de mesures souhaitées : \"))\n",
    "cycle=0\n",
    "pause=int(input(\"Saisissez l'intervalle entre 2 mesures en secondes : \"))\n",
    "while cycle < nombremesures:\n",
    "    tempMCP = mcp.getTemp()\n",
    "    if tempMCP < 25:\n",
    "        ledg.write(1)\n",
    "        ledr.write(0)\n",
    "    else:\n",
    "        ledg.write(0)\n",
    "        ledr.write(1)\n",
    "    manufacturer=mcp.getManufacturer()\n",
    "    hysteresis=mcp.getHysteresis()\n",
    "    print (\"{0:.2f} °C\".format(tempMCP),\" ; \",end='')\n",
    "    time.sleep(pause)\n",
    "    cycle=cycle+1\n",
    "\n",
    "#print(manufacturer,\" ; \",end='')\n",
    "#print(hysteresis,\" ; \",end='')\n",
    "ledg.write(0)\n",
    "ledr.write(0)"
   ]
  },
  {
   "cell_type": "markdown",
   "metadata": {
    "deletable": true,
    "editable": true
   },
   "source": [
    "# Un test pour HTU21D\n",
    "\n",
    "obtenir l'humidité et la température pour ce capteur.\n",
    "Avec l'idée de coupler les valeurs d'humidité à une led RGB"
   ]
  },
  {
   "cell_type": "code",
   "execution_count": 4,
   "metadata": {
    "collapsed": false,
    "deletable": true,
    "editable": true
   },
   "outputs": [
    {
     "name": "stdout",
     "output_type": "stream",
     "text": [
      "Saisissez le nombre de mesures souhaitées : 5\n",
      "Saisissez l'intervalle entre 2 mesures en secondes : 2\n",
      "Température \tHumidité\n",
      "0.00 °C \t\t0.00 %  ; \n",
      "0.00 °C \t\t0.00 %  ; \n",
      "0.00 °C \t\t0.00 %  ; \n",
      "0.00 °C \t\t0.00 %  ; \n",
      "0.00 °C \t\t0.00 %  ; \n"
     ]
    }
   ],
   "source": [
    "from upm import pyupm_htu21d as htu\n",
    "\n",
    "htu=htu.HTU21D(0)\n",
    "htu.resetSensor()\n",
    "nombremesures=int(input(\"Saisissez le nombre de mesures souhaitées : \"))\n",
    "cycle=0\n",
    "pause=int(input(\"Saisissez l'intervalle entre 2 mesures en secondes : \"))\n",
    "print(\"Température \\tHumidité\")\n",
    "while cycle < nombremesures:\n",
    "    temphtu = htu.getTemperature()\n",
    "    humhtu = htu.getHumidity()\n",
    "#    manufacturer=mcp.getManufacturer()\n",
    "#    hysteresis=mcp.getHysteresis()\n",
    "    print (\"{0:.2f} °C \\t\\t{1:.2f} %\".format(temphtu,humhtu),\" ; \")\n",
    "    time.sleep(pause)\n",
    "    cycle=cycle+1"
   ]
  },
  {
   "cell_type": "markdown",
   "metadata": {
    "deletable": true,
    "editable": true
   },
   "source": [
    "# Un premier test sur mcp9808\n",
    "\n",
    "On importe les librairies nécessaires puis on décide de choisir le nombre de mesure à effectuer et le délai entre deux mesures."
   ]
  },
  {
   "cell_type": "code",
   "execution_count": 7,
   "metadata": {
    "collapsed": false,
    "deletable": true,
    "editable": true
   },
   "outputs": [
    {
     "name": "stdout",
     "output_type": "stream",
     "text": [
      "Saisissez le nombre de mesures souhaitées : 5\n",
      "Saisissez l'intervalle entre 2 mesures en secondes : 1\n",
      "Température en °C\n",
      "20.50 °C  ; \n",
      "20.44 °C  ; \n",
      "20.44 °C  ; \n",
      "20.44 °C  ; \n",
      "20.44 °C  ; \n",
      "manufacturer =  84  ; hysteresis =  0.0  ; "
     ]
    }
   ],
   "source": [
    "#import mraa, upm\n",
    "#import time\n",
    "from upm import pyupm_mcp9808 as mcp\n",
    "mcp = mcp.MCP9808(0)\n",
    "#bme.update()\n",
    "nombremesures=int(input(\"Saisissez le nombre de mesures souhaitées : \"))\n",
    "cycle=0\n",
    "pause=int(input(\"Saisissez l'intervalle entre 2 mesures en secondes : \"))\n",
    "print(\"Température en °C\")\n",
    "while cycle < nombremesures:\n",
    "    tempMCP = mcp.getTemp()\n",
    "    manufacturer=mcp.getManufacturer()\n",
    "    hysteresis=mcp.getHysteresis()\n",
    "    print (\"{0:.2f} °C\".format(tempMCP),\" ; \")\n",
    "    time.sleep(pause)\n",
    "    cycle=cycle+1\n",
    "print(\"manufacturer = \",manufacturer,\" ; \",end='')\n",
    "print(\"hysteresis = \",hysteresis,\" ; \",end='')"
   ]
  },
  {
   "cell_type": "markdown",
   "metadata": {
    "deletable": true,
    "editable": true
   },
   "source": []
  }
 ],
 "metadata": {
  "kernelspec": {
   "display_name": "Python 3",
   "language": "python",
   "name": "python3"
  },
  "language_info": {
   "codemirror_mode": {
    "name": "ipython",
    "version": 3
   },
   "file_extension": ".py",
   "mimetype": "text/x-python",
   "name": "python",
   "nbconvert_exporter": "python",
   "pygments_lexer": "ipython3",
   "version": "3.5.3"
  }
 },
 "nbformat": 4,
 "nbformat_minor": 2
}
