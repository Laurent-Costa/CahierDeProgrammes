{
 "cells": [
  {
   "cell_type": "markdown",
   "metadata": {},
   "source": [
    "# Mesurer avec un capteur Press-Hygro-Temp : Adafruit BME280#\n",
    "\n",
    "Activité réalisée avec un capteur Adafruit BME280, une raspberry Pi3 fonctionnant avec une image Debian Stretch fournie par l'IFÉ ENS de Lyon, disposant des librairies INTEL mraa et upm.\n",
    "\n",
    "Sur le site de Adafruit https://learn.adafruit.com/adafruit-bme280-humidity-barometric-pressure-temperature-sensor-breakout/pinouts on lit que 4 broches doivent être connectées au raspberryPi lorsqu'on travaille avec le bus I2C\n",
    "* Vin - C'est la broche d'alimentation : elle peut-être relié à 3,3V ou 5V (Nous le relierons au 3,3V dans cet exercice)\n",
    "* GND - broche à relier à une broche ground du RasberryPi\n",
    " et\n",
    "* SCK - c'est la broche d'horloge du bus I2C\n",
    "* SDI - c'est la broche de données du bus I2C\n",
    "\n",
    "![Capteur BME280 branché sur le bus I2C d'un RaspberryPi](images/RaspberryPi_BME280L.jpg)\n",
    "\n",
    "![Capteur BME280 branché sur le bus I2C d'un RaspberryPi](images/RaspberryPi_BME280Detail.jpg)\n",
    "\n",
    "\n",
    "## Mesurer puis écrire la température en 6 lignes ##\n",
    "\n",
    "Chaque ligne de texte ci-dessous est traduite dans le bloc suivant en une instruction dans un langage interprétable par la machine, à chaque alinéa correspond une instruction, la somme des instructions constitue un programme.\n",
    "\n",
    " * Demander l'utilisation des outils nécessaires, il sagit de deux bibliothèques de programmes de base qui permettent d'interagir et de piloter les capteurs que nous avons choisis. Le nom de ces bibliothèques est mraa et upm\n",
    " * parmi tous les pilotes disponibles nous devons utiliser le pilote pyupm_bmp280 (py pour python, upm nom de la librairie, _ séparateur, bme280 nom du capteur)\n",
    " * Déclarer le nom du capteur qu'on va utiliser (bme)\n",
    " * Mettre à jour le capteur (on utilise la commande préprogrammée dans le pilote \"update\")\n",
    " * Mesurer la température (on utilise la fonction préprogrammée dans le pilote \"getTemperature()\" on appelle la température tempBME)\n",
    " * Imprimer la température"
   ]
  },
  {
   "cell_type": "code",
   "execution_count": 1,
   "metadata": {
    "collapsed": true
   },
   "outputs": [
    {
     "name": "stdout",
     "output_type": "stream",
     "text": [
      "32.06 °C\n"
     ]
    }
   ],
   "source": [
    "import mraa, upm\n",
    "from upm import pyupm_bmp280 as bmp\n",
    "bme = bmp.BME280(0)\n",
    "bme.update()\n",
    "tempBME = bme.getTemperature()\n",
    "print (\"{0:.2f} °C\".format(tempBME))"
   ]
  },
  {
   "cell_type": "markdown",
   "metadata": {},
   "source": [
    "## Nommer une _constante_ puis utiliser toutes les capacités du capteur ##\n",
    "\n",
    "Il est utile et efficace de nommer les constantes et les variables qu'on utilise dans un programme. Ici par exemple quand on déclare le capteur bme on utilise le nombre \"0\" dont il est difficile de connaître l'origine et l'usage. Il s'agit  du numéro du \"bus\" sur lequel est connecté notre capteur, il peut y avoir dans ceratins cas plusieurs \"bus\" sur lesquels sont connectés plusieurs capteurs on exprime sur la seconde ligne que le premier bus porte le numéro 0 et sera utilisé pour trouver le capteur bme; bus1 est une _constante_ qui vaut 0.\n",
    "Dans le code précédent tempBME est une _variable_ qui prend la valeur fournie par le capteur BME280 qui mesure la température. Ce capteur est capable de mesurer d'autres grandeurs physiques **variables** : la pression et le pourcentage d'hygrométrie. On peut donc utiliser 3 _variables_ tempBME pour la température, pressBME pour la pression et hygroBME pour l'hygrométrie. On peut choisir le nom que l'on veut pour les variables mais il est d'usage de choisir des noms qui donnent des indications sur leur contenu.\n",
    "On utilise 3 fonctions préprogrammées fournies par le pilote que nous avons choisi.\n",
    "L'instruction d'impression a été augmentée pour afficher les 3 mesures effectuées."
   ]
  },
  {
   "cell_type": "code",
   "execution_count": 3,
   "metadata": {
    "collapsed": true
   },
   "outputs": [
    {
     "name": "stdout",
     "output_type": "stream",
     "text": [
      "32.48 %\t\t32.00 °C\t997.21 hPa\n"
     ]
    }
   ],
   "source": [
    "import mraa, upm\n",
    "from upm import pyupm_bmp280 as bmp\n",
    "bus1 = 0\n",
    "bme = bmp.BME280(bus1)\n",
    "bme.update()\n",
    "tempBME = bme.getTemperature()\n",
    "pressBME = bme.getPressure() / 100.0\n",
    "hygroBME = bme.getHumidity()\n",
    "print (\"{0:.2f} %\\t\\t{1:.2f} °C\\t{2:.2f} hPa\".format(hygroBME,tempBME,pressBME))"
   ]
  },
  {
   "cell_type": "markdown",
   "metadata": {},
   "source": [
    "## Imprimer un commentaire (le nom des variables mesurées) ##\n",
    "\n",
    "M€me si les unités affichées sont une indication sur la grandeur mesurée, il est souhaitable d'indiquer quelle est cette grandeur soit en en-tête des colonnes d'un tableau, soit dans la légende d'un graphique."
   ]
  },
  {
   "cell_type": "code",
   "execution_count": 4,
   "metadata": {
    "collapsed": true
   },
   "outputs": [
    {
     "name": "stdout",
     "output_type": "stream",
     "text": [
      "Humidité : \tTempérature : \tPression :\n",
      "32.20 %\t\t31.93 °C\t997.24 hPa\n"
     ]
    }
   ],
   "source": [
    "import mraa, upm\n",
    "from upm import pyupm_bmp280 as bmp\n",
    "bus1 = 0\n",
    "bme =bmp.BME280(bus1)\n",
    "bme.update()\n",
    "tempBME = bme.getTemperature()\n",
    "pressBME = bme.getPressure() / 100.0\n",
    "hygroBME = bme.getHumidity()\n",
    "print ('Humidité : \\tTempérature : \\tPression :')\n",
    "print (\"{0:.2f} %\\t\\t{1:.2f} °C\\t{2:.2f} hPa\".format(hygroBME,tempBME,pressBME))"
   ]
  },
  {
   "cell_type": "markdown",
   "metadata": {},
   "source": [
    "## Ajouter une fonction pour calculer la pression au niveau de la mer ##\n",
    "\n",
    "La pression atmosphérique en un lieu dépend de son altitude. Pour pouvoir faire de la météorologie ou simplement comparer des mesures faites en différents endroits il faut partager une référence commune et le niveau de la mer est une solution simple et efficace. On convertit donc  notre mesure locale à la valeur qu'elle aurait  si nous étions au niveau de la mer. Il nous faut donc connaître notre altitude et importer des outils mathématiques. pour cela on ajoute la constante localAlt au programme et on importe la bibliothèque d'outils mathématiques de python.\n",
    "Il est probable que nous ayons à réutiliser ce calcul  dans d'autres programmes et il serait malin de pouvoir réutiliser simplement les lignes de code que nous allons écrire. Plutôt que les noyer dans le programme nous allons _définir une fonction_ qui prendra un _paramètre_ (la pression mesurée m_Pressure) et qui nous _retournera_ la valeur à laquelle cette mesure correspond au niveau de la mer (sl_Pressure pour sea-level pressure). Le paramètre est une variable tout comme la valeur retournée.\n",
    "La fonction est appelée ici convertSeaLevel() elle prend comme paramètre la variable mesurée par le capteur pressBME et fournit la variable décrivant  la pression au niveau de la mer seaLevelPress. On voit que les variables _locales_ utilisées par la fonction (m_Pressure, sl_Pressure) n'ont pas forcément le même nom que les variables _globales_ du programme principal (pressBME, seaLevelPress), cela permet de manipuler des noms de variables signifiants et cohérents avec leur contexte. Vous noterez que pouur souligner cette différence le nom des variables _locales à la fonction_ utilisent un système de séparation des mots (des \"\\_\") différent de celui du programme principal ( le CamelCase)."
   ]
  },
  {
   "cell_type": "code",
   "execution_count": 5,
   "metadata": {
    "collapsed": true
   },
   "outputs": [
    {
     "name": "stdout",
     "output_type": "stream",
     "text": [
      "Humidité : \tTempérature : \tPression : \tPression(mer) : \n",
      "32.17 %\t\t31.90 °C\t997.24 hPa\t1015.94 hPa\n"
     ]
    }
   ],
   "source": [
    "import mraa, upm, math\n",
    "from upm import pyupm_bmp280 as bmp\n",
    "bus1 = 0\n",
    "bme = bmp.BME280(bus1)\n",
    "localAlt = 156.5\n",
    "# Calcul de la pression au niveau de la mer\n",
    "def convertSeaLevel (m_Pressure):\n",
    "\tsl_Pressure = m_Pressure / math.pow(1.0 - localAlt/44330, 5.255)\n",
    "\treturn sl_Pressure\n",
    "# fin du calcul\n",
    "bme.update()\n",
    "tempBME = bme.getTemperature()\n",
    "pressBME = bme.getPressure() / 100.0\n",
    "hygroBME = bme.getHumidity()\n",
    "seaLevelPress = convertSeaLevel (pressBME)\n",
    "print ('Humidité : \\tTempérature : \\tPression : \\tPression(mer) : ')\n",
    "print (\"{0:.2f} %\\t\\t{1:.2f} °C\\t{2:.2f} hPa\\t{3:.2f} hPa\".format(hygroBME,tempBME,pressBME,seaLevelPress))"
   ]
  },
  {
   "cell_type": "markdown",
   "metadata": {},
   "source": [
    "## Faire une mesure toutes les 5 secondes ##\n",
    "\n",
    "Lorsque l'on dispose d'un capteur et d'une alimentation suffisante il est bien sûr extrêmement intéressant de faire des mesures **en continu**. En fait on ne peut pas réellement mesurer de façon continue, on effectue des mesures les unes à la suite des autres en ménageant un temps (qui peut êetre très court) entre deux mesures pour transmettre le résultat et permettre au capteur d'être prêt pour la mesure suivante. La valeur du temps de pause est ici de 5 secondes valeur fournie à la fonction sleep (dors pendant....) de la librairie des programmes de gestion du temps (qui est incluse au début du programme).\n",
    "Nous avons vu précédemment comment faire **une** mesure, nous venons de voir comment _ne rien faire_ pendant un temps donné, il nous faut donc enchaîner Mesure->Repos->Mesure->Repos-> c'est ce que l'on appelle une _boucle_. Pour le moment nous ne nous préoccupons pas de savoir comment arrêter les mesures et nous nous lançons dans une _boucle sans fin_; pour cela nous utilisons un _mot réservé_ : \"True\" (qui veut dire vrai) et nous utilisons l'instruction  \"Tant que c'est vrai mesure puis attends 5s et recommence\" comme nous déclarons que c'est vrai et que nous ne touchons pas cette valeur cela reste toujours vrai et on recommence toujours la série \"mesure puis attends 5s\". La _condition_ ayant pour valeur _\"Tant que\"_ que nous avons utilisée se traduit par _while_ et tout ce qui suit les \":\" et est décalé de 4 caractères est répété à l'infini dans l'ordre des lignes."
   ]
  },
  {
   "cell_type": "code",
   "execution_count": null,
   "metadata": {
    "collapsed": true
   },
   "outputs": [
    {
     "name": "stdout",
     "output_type": "stream",
     "text": [
      "Humidité : \tTempérature : \tPression : \tPression(mer) : \n",
      "32.76 %\t\t31.85 °C\t997.22 hPa\t1015.92 hPa\n",
      "32.21 %\t\t31.83 °C\t997.21 hPa\t1015.92 hPa\n",
      "32.24 %\t\t31.78 °C\t997.22 hPa\t1015.92 hPa\n",
      "32.27 %\t\t31.70 °C\t997.22 hPa\t1015.92 hPa\n",
      "32.29 %\t\t31.71 °C\t997.21 hPa\t1015.92 hPa\n",
      "32.32 %\t\t31.68 °C\t997.20 hPa\t1015.91 hPa\n",
      "32.34 %\t\t31.69 °C\t997.20 hPa\t1015.90 hPa\n",
      "32.35 %\t\t31.68 °C\t997.20 hPa\t1015.90 hPa\n",
      "32.29 %\t\t31.69 °C\t997.21 hPa\t1015.91 hPa\n",
      "32.34 %\t\t31.66 °C\t997.22 hPa\t1015.93 hPa\n",
      "32.34 %\t\t31.66 °C\t997.21 hPa\t1015.92 hPa\n",
      "32.41 %\t\t31.67 °C\t997.22 hPa\t1015.93 hPa\n",
      "32.37 %\t\t31.69 °C\t997.20 hPa\t1015.91 hPa\n",
      "32.35 %\t\t31.73 °C\t997.20 hPa\t1015.90 hPa\n",
      "32.32 %\t\t31.68 °C\t997.20 hPa\t1015.90 hPa\n",
      "32.27 %\t\t31.73 °C\t997.20 hPa\t1015.90 hPa\n",
      "32.32 %\t\t31.74 °C\t997.21 hPa\t1015.91 hPa\n",
      "32.33 %\t\t31.76 °C\t997.19 hPa\t1015.90 hPa\n",
      "32.25 %\t\t31.76 °C\t997.20 hPa\t1015.91 hPa\n",
      "32.21 %\t\t31.74 °C\t997.21 hPa\t1015.91 hPa\n",
      "32.22 %\t\t31.72 °C\t997.20 hPa\t1015.91 hPa\n",
      "32.59 %\t\t31.76 °C\t997.22 hPa\t1015.93 hPa\n",
      "32.33 %\t\t31.75 °C\t997.24 hPa\t1015.95 hPa\n",
      "32.28 %\t\t31.77 °C\t997.21 hPa\t1015.92 hPa\n",
      "32.21 %\t\t31.77 °C\t997.22 hPa\t1015.93 hPa\n",
      "32.21 %\t\t31.82 °C\t997.24 hPa\t1015.95 hPa\n",
      "32.21 %\t\t31.77 °C\t997.25 hPa\t1015.95 hPa\n",
      "32.21 %\t\t31.79 °C\t997.25 hPa\t1015.96 hPa\n",
      "32.21 %\t\t31.80 °C\t997.23 hPa\t1015.93 hPa\n",
      "32.24 %\t\t31.79 °C\t997.22 hPa\t1015.92 hPa\n",
      "32.26 %\t\t31.76 °C\t997.19 hPa\t1015.90 hPa\n",
      "32.42 %\t\t31.78 °C\t997.21 hPa\t1015.91 hPa\n",
      "32.32 %\t\t31.68 °C\t997.20 hPa\t1015.90 hPa\n",
      "32.31 %\t\t31.70 °C\t997.21 hPa\t1015.91 hPa\n",
      "32.33 %\t\t31.71 °C\t997.19 hPa\t1015.89 hPa\n",
      "32.33 %\t\t31.71 °C\t997.19 hPa\t1015.89 hPa\n",
      "32.34 %\t\t31.69 °C\t997.20 hPa\t1015.90 hPa\n",
      "32.33 %\t\t31.70 °C\t997.21 hPa\t1015.92 hPa\n",
      "32.34 %\t\t31.72 °C\t997.19 hPa\t1015.90 hPa\n",
      "32.36 %\t\t31.68 °C\t997.19 hPa\t1015.90 hPa\n",
      "32.36 %\t\t31.68 °C\t997.18 hPa\t1015.89 hPa\n",
      "32.36 %\t\t31.69 °C\t997.18 hPa\t1015.88 hPa\n",
      "32.64 %\t\t31.71 °C\t997.17 hPa\t1015.88 hPa\n",
      "32.31 %\t\t31.70 °C\t997.16 hPa\t1015.87 hPa\n",
      "32.32 %\t\t31.71 °C\t997.18 hPa\t1015.88 hPa\n",
      "32.33 %\t\t31.71 °C\t997.18 hPa\t1015.89 hPa\n",
      "32.33 %\t\t31.72 °C\t997.17 hPa\t1015.88 hPa\n",
      "32.34 %\t\t31.72 °C\t997.16 hPa\t1015.87 hPa\n",
      "32.31 %\t\t31.73 °C\t997.17 hPa\t1015.87 hPa\n",
      "32.26 %\t\t31.77 °C\t997.15 hPa\t1015.85 hPa\n",
      "32.23 %\t\t31.80 °C\t997.15 hPa\t1015.86 hPa\n",
      "32.30 %\t\t31.75 °C\t997.15 hPa\t1015.86 hPa\n",
      "32.27 %\t\t31.79 °C\t997.16 hPa\t1015.87 hPa\n",
      "32.31 %\t\t31.76 °C\t997.18 hPa\t1015.89 hPa\n",
      "32.25 %\t\t31.80 °C\t997.19 hPa\t1015.90 hPa\n",
      "32.23 %\t\t31.78 °C\t997.20 hPa\t1015.90 hPa\n",
      "32.21 %\t\t31.82 °C\t997.22 hPa\t1015.93 hPa\n",
      "32.24 %\t\t31.79 °C\t997.20 hPa\t1015.90 hPa\n",
      "32.21 %\t\t31.85 °C\t997.20 hPa\t1015.90 hPa\n",
      "32.21 %\t\t31.82 °C\t997.17 hPa\t1015.88 hPa\n",
      "32.22 %\t\t31.77 °C\t997.16 hPa\t1015.86 hPa\n",
      "32.23 %\t\t31.78 °C\t997.12 hPa\t1015.83 hPa\n",
      "32.29 %\t\t31.73 °C\t997.13 hPa\t1015.84 hPa\n",
      "32.28 %\t\t31.77 °C\t997.14 hPa\t1015.85 hPa\n",
      "32.25 %\t\t31.77 °C\t997.14 hPa\t1015.85 hPa\n",
      "32.25 %\t\t31.77 °C\t997.12 hPa\t1015.83 hPa\n",
      "32.21 %\t\t31.83 °C\t997.14 hPa\t1015.84 hPa\n",
      "32.17 %\t\t31.81 °C\t997.13 hPa\t1015.83 hPa\n",
      "32.17 %\t\t31.81 °C\t997.13 hPa\t1015.84 hPa\n",
      "32.19 %\t\t31.81 °C\t997.15 hPa\t1015.85 hPa\n",
      "32.16 %\t\t31.81 °C\t997.14 hPa\t1015.84 hPa\n",
      "32.01 %\t\t31.83 °C\t997.15 hPa\t1015.85 hPa\n",
      "32.18 %\t\t31.81 °C\t997.14 hPa\t1015.85 hPa\n",
      "32.23 %\t\t31.80 °C\t997.14 hPa\t1015.85 hPa\n",
      "32.25 %\t\t31.79 °C\t997.15 hPa\t1015.86 hPa\n",
      "32.21 %\t\t31.83 °C\t997.17 hPa\t1015.87 hPa\n",
      "32.20 %\t\t31.81 °C\t997.15 hPa\t1015.85 hPa\n",
      "32.14 %\t\t31.84 °C\t997.14 hPa\t1015.84 hPa\n",
      "32.15 %\t\t31.85 °C\t997.12 hPa\t1015.82 hPa\n",
      "32.13 %\t\t31.85 °C\t997.13 hPa\t1015.83 hPa\n",
      "31.86 %\t\t31.85 °C\t997.13 hPa\t1015.83 hPa\n",
      "32.14 %\t\t31.89 °C\t997.13 hPa\t1015.83 hPa\n",
      "32.13 %\t\t31.89 °C\t997.12 hPa\t1015.82 hPa\n",
      "32.11 %\t\t31.89 °C\t997.13 hPa\t1015.84 hPa\n",
      "32.09 %\t\t31.90 °C\t997.11 hPa\t1015.82 hPa\n",
      "32.05 %\t\t31.92 °C\t997.11 hPa\t1015.81 hPa\n",
      "32.04 %\t\t31.90 °C\t997.11 hPa\t1015.82 hPa\n",
      "31.92 %\t\t31.91 °C\t997.11 hPa\t1015.81 hPa\n",
      "32.08 %\t\t31.87 °C\t997.08 hPa\t1015.79 hPa\n"
     ]
    }
   ],
   "source": [
    "import mraa, upm, math, time\n",
    "from upm import pyupm_bmp280 as bmp\n",
    "bus1 = 0\n",
    "pauseVal = 5\n",
    "bme = bmp.BME280(bus1)\n",
    "localAlt = 156.5\n",
    "# Calcul de la pression au niveau de la mer\n",
    "def convertSeaLevel (m_Pressure):\n",
    "\tsl_Pressure = m_Pressure / math.pow(1.0 - localAlt/44330, 5.255)\n",
    "\treturn sl_Pressure\n",
    "# fin du calcul\n",
    "print ('Humidité : \\tTempérature : \\tPression : \\tPression(mer) : ')\n",
    "while True :\n",
    "    bme.update()\n",
    "    tempBME = bme.getTemperature()\n",
    "    pressBME = bme.getPressure() / 100.0\n",
    "    hygroBME = bme.getHumidity()\n",
    "    seaLevelPress = convertSeaLevel (pressBME)\n",
    "    print (\"{0:.2f} %\\t\\t{1:.2f} °C\\t{2:.2f} hPa\\t{3:.2f} hPa\".format(hygroBME,tempBME,pressBME,seaLevelPress))\n",
    "    time.sleep (pauseVal)"
   ]
  },
  {
   "cell_type": "code",
   "execution_count": null,
   "metadata": {
    "collapsed": true
   },
   "outputs": [],
   "source": []
  }
 ],
 "metadata": {
  "kernelspec": {
   "display_name": "Python 3",
   "language": "python",
   "name": "python3"
  },
  "language_info": {
   "codemirror_mode": {
    "name": "ipython",
    "version": 3
   },
   "file_extension": ".py",
   "mimetype": "text/x-python",
   "name": "python",
   "nbconvert_exporter": "python",
   "pygments_lexer": "ipython3",
   "version": "3.5.3"
  }
 },
 "nbformat": 4,
 "nbformat_minor": 1
}
