{
 "cells": [
  {
   "cell_type": "markdown",
   "metadata": {
    "deletable": true,
    "editable": true
   },
   "source": [
    "# Mise en place d'un système de multiplexage de 3 stations météo\n",
    "\n",
    "Importation des librairies générales et importation des binaires pour les différents capteurs utilisés dans les montages."
   ]
  },
  {
   "cell_type": "code",
   "execution_count": 1,
   "metadata": {
    "collapsed": false,
    "deletable": true,
    "editable": true
   },
   "outputs": [],
   "source": [
    "import mraa, upm\n",
    "import _thread, time, math\n",
    "\n",
    "from upm import pyupm_mcp9808 as mcp\n",
    "from upm import pyupm_bmp280 as bme\n",
    "from upm import pyupm_tsl2561 as tsl\n",
    "from upm import pyupm_htu21d as htud\n",
    "from upm import pyupm_mpl3115a2 as mpl\n",
    "from upm import pyupm_si1132 as si\n",
    "from upm import pyupm_tca9548a as multi"
   ]
  },
  {
   "cell_type": "markdown",
   "metadata": {
    "deletable": true,
    "editable": true
   },
   "source": [
    "## Déclaration des capteurs\n",
    "\n",
    "Déclaration des adresses des capteurs et des constantes utilisées pour les mesures."
   ]
  },
  {
   "cell_type": "code",
   "execution_count": 2,
   "metadata": {
    "collapsed": true,
    "deletable": true,
    "editable": true
   },
   "outputs": [],
   "source": [
    "# Constant declarations\n",
    "#----------------------\n",
    "# i2c bus 1 on RaspBerry Pi\n",
    "bus1 = 0\n",
    "mcpAddr = 0x18\n",
    "bmeAddr = 0x77\n",
    "bmpAddr = 0x76\n",
    "tslAddr = 0x39\n",
    "\n",
    "localAlt = 156.5\n",
    "UPPER_TEMP = 0x02\n",
    "LOWER_TEMP = 0x03\n",
    "CRIT_TEMP = 0x04"
   ]
  },
  {
   "cell_type": "markdown",
   "metadata": {
    "deletable": true,
    "editable": true
   },
   "source": [
    "## Ouverture du canal 4 du multiplexeur\n",
    "\n",
    "On déclare le multiplexeur et on ouvre le canal 4 où sont connectés les capteurs."
   ]
  },
  {
   "cell_type": "code",
   "execution_count": 3,
   "metadata": {
    "collapsed": false,
    "deletable": true,
    "editable": true
   },
   "outputs": [],
   "source": [
    "# Select channel 4 on the multiplexer \n",
    "multiplex1 = multi.TCA9548A(bus1, multi.TCA9548A_DEFAULT_ADDR)\n",
    "multiplex1.selSlave(multi.TCA9548A_DEFAULT_ADDR, multi.TCA9548A.C4)"
   ]
  },
  {
   "cell_type": "code",
   "execution_count": 4,
   "metadata": {
    "collapsed": false,
    "deletable": true,
    "editable": true
   },
   "outputs": [],
   "source": [
    "# create sensors on the bus 1\n",
    "temp = mcp.MCP9808(bus1)\n",
    "hygro = bme.BME280(bus1,bmeAddr)\n",
    "luxtsl = tsl.TSL2561(bus1, tslAddr)"
   ]
  },
  {
   "cell_type": "code",
   "execution_count": 5,
   "metadata": {
    "collapsed": true,
    "deletable": true,
    "editable": true
   },
   "outputs": [],
   "source": [
    "# Sensor Functions\n",
    "#---------\n",
    "# bme 280\n",
    "#****************\n",
    "def get_bmSensor(thisSensor) :\n",
    "    name = thisSensor.getModuleName ()\n",
    "    bmpId = thisSensor.getChipID ()\n",
    "    print ('capteur : %s\\t'%name + 'Id : %d\\n'%bmpId)\n",
    "    return\n",
    "\n",
    "def reset_bmSensor(thisSensor) :\n",
    "    thisSensor.reset()\n",
    "    return\n",
    "\n",
    "def mes_bmTPA(thisSensor) :\n",
    "    thisSensor.update ()\n",
    "    bmTemp = thisSensor.getTemperature ()\n",
    "    bmPress = thisSensor.getPressure () /100.0\n",
    "    bmAlt = thisSensor.getAltitude ()\n",
    "    return(bmTemp, bmPress, bmAlt)\n",
    "\n",
    "def mes_bmeHum(thisSensor) :\n",
    "    thisSensor.update ()\n",
    "    bmeHum = thisSensor.getHumidity ()\n",
    "    return(bmeHum)\n",
    "\n",
    "def convertSeaLevel (m_Pressure,m_Temperature,m_alt):\n",
    "#    s_Pressure = m_Pressure / math.pow(1.0 - localAlt/44330, 5.255)\n",
    "    s_Pressure = m_Pressure * math.pow((1 - 0.0065 * m_alt / ( m_Temperature + 0.0065 * m_alt + 273.15)), -5.257) \n",
    "#    s_Pressure = m_Pressure / math.pow((1 - 0.0065 * m_alt / m_Temperature), 5.255 )\n",
    "    return s_Pressure\n",
    "\n",
    "# MCP9808\n",
    "#********\n",
    "def get_mcpSensor(thisSensor):\n",
    "    unity = thisSensor.isCelsius()\n",
    "    upper = thisSensor.getMonitorReg (UPPER_TEMP)\n",
    "    lower = thisSensor.getMonitorReg (LOWER_TEMP)\n",
    "    critic = thisSensor.getMonitorReg (CRIT_TEMP)\n",
    "    hyst = thisSensor.getHysteresis ()\n",
    "    resol = thisSensor.getResolution ()\n",
    "    idManuf = thisSensor.getManufacturer ()\n",
    "    mcpId = thisSensor.getDevicedId ()\n",
    "    if unity :\n",
    "        print ('We are measuring in Celsius')\n",
    "    else :\n",
    "        print ('We are measuring in Fahrenheit')\n",
    "    print ('\\tLower T° : %.3f\\n'%lower + '\\tUpperT° : %.3f\\n'%upper + '\\tCritical T° : %.3f\\n'%critic)\n",
    "    print ('Hysteresis value : %.3f'%hyst)\n",
    "    print ('Resolution : %.4f'%resol)\n",
    "    print ('Manufacturer Id : %d'%idManuf)\n",
    "    print ('Device Id : %d\\n'%mcpId)\n",
    "    return\n",
    "\n",
    "def mes_mcpTemp(thisSensor):\n",
    "    mcpTemp = thisSensor.getTemp ()\n",
    "    return (mcpTemp)\n",
    "\n",
    "# TSL2561\n",
    "#*******\n",
    "def mes_tslLux(thisSensor) :\n",
    "    lux = thisSensor.getLux ()\n",
    "    return(lux)\n",
    "\n",
    "def input_thread(CheckInput):\n",
    "    check = input()\n",
    "    CheckInput.append(check)\n",
    "    return\n",
    "\n",
    "def init_Thread () :\n",
    "    CheckInput = []\n",
    "    _thread.start_new_thread(input_thread, (CheckInput,))\n",
    "    print ('Instructions :  \\t\"stop\" pour arrêter les mesures.\\n')\n",
    "    print ('\\t\\t\"resetBME\" pour redémarrer le capteur BME280')\n",
    "    return (CheckInput)\n"
   ]
  },
  {
   "cell_type": "code",
   "execution_count": 6,
   "metadata": {
    "collapsed": false,
    "deletable": true,
    "editable": true
   },
   "outputs": [
    {
     "name": "stdout",
     "output_type": "stream",
     "text": [
      "Instructions :  \t\"start\" pour démarrer les mesures \"check\" pour la maintenance \"exit\" pour sortir.\n",
      "--> start\n",
      "Instructions :  \t\"stop\" pour arrêter les mesures.\n",
      "\n",
      "\t\t\"resetBME\" pour redémarrer le capteur BME280\n",
      "Int. Lum. : \tHumid(BME) : \tTemp(MCP) : \tTemp(BME) :  \tAlt(BME) : \tPress(BME) : \tPress(SealevelBME) : \n",
      "12.00\t\t38.6\t\t23.3750 °C\t25.04 °C\t80.66 m\t\t1003.59 hPa\t\t1021.72 hPa\t\n",
      "12.00\t\t38.6\t\t23.3750 °C\t25.04 °C\t80.68 m\t\t1003.59 hPa\t\t1021.72 hPa\t\n",
      "stop\n",
      "Arrêt demandé.\n"
     ]
    }
   ],
   "source": [
    "# Main function\n",
    "###############\n",
    "def measureMeteoParams():\n",
    "    nbmes = 0\n",
    "    while True :\n",
    "        option1 = input('Instructions :  \\t\"start\" pour démarrer les mesures \"check\" pour la maintenance \"exit\" pour sortir.\\n--> ')\n",
    "        if option1 == 'exit' :\n",
    "            break\n",
    "        elif option1 == 'start' :\n",
    "            break\n",
    "# Main loop\n",
    "    if option1.strip() == 'start' :\n",
    "        CheckInput = init_Thread()\n",
    "        while True :\n",
    "            if CheckInput == ['stop']: \n",
    "                print ('Arrêt demandé.')\n",
    "                break\n",
    "            elif CheckInput != [] :\n",
    "                print ('Commande inconnue : \"%s\"\\n'%CheckInput)\n",
    "                thread.start_new_thread(input_thread, (CheckInput,))\n",
    "                del CheckInput[:]\n",
    "            else :\n",
    "                time.sleep (0.5)\n",
    "            tempHR = mes_mcpTemp(temp)\n",
    "            hygroBME = mes_bmeHum(hygro) \n",
    "            [tempBME,pressBME,altBME] = mes_bmTPA(hygro)\n",
    "            seaLevelPress = convertSeaLevel (pressBME,tempBME,localAlt)\n",
    "            lux = mes_tslLux(luxtsl)\n",
    "            if nbmes == 0 :\n",
    "                print ('Int. Lum. : \\tHumid(BME) : \\tTemp(MCP) : \\tTemp(BME) :  \\tAlt(BME) : \\tPress(BME) : \\tPress(SealevelBME) : ' )\n",
    "                nbmes += 1\n",
    "            elif nbmes == 9 :\n",
    "                nbmes = 0\n",
    "            else :\n",
    "                nbmes += 1\n",
    "            print ('%.2f\\t\\t' %lux + '%2.1f\\t\\t' %hygroBME + '%.4f °C\\t' %tempHR +  '%.2f °C\\t' %tempBME + '%.2f m\\t\\t' %altBME  + '%.2f hPa\\t\\t' %pressBME + '%.2f hPa\\t' %seaLevelPress)\n",
    "\n",
    "            time.sleep (5)\n",
    "    else :\n",
    "        print ('Bye...')\n",
    "    return\n",
    "\n",
    "measureMeteoParams()\n"
   ]
  },
  {
   "cell_type": "code",
   "execution_count": 15,
   "metadata": {
    "collapsed": true,
    "deletable": true,
    "editable": true
   },
   "outputs": [],
   "source": [
    "# Close Channel 4\n",
    "multiplex1.closeSlaves(multi.TCA9548A_DEFAULT_ADDR)"
   ]
  },
  {
   "cell_type": "code",
   "execution_count": 16,
   "metadata": {
    "collapsed": false,
    "deletable": true,
    "editable": true
   },
   "outputs": [],
   "source": [
    "# Select channel 2 on the multiplexer \n",
    "multiplex2 = multi.TCA9548A(bus1, multi.TCA9548A_DEFAULT_ADDR)\n",
    "multiplex2.selSlave(multi.TCA9548A_DEFAULT_ADDR, multi.TCA9548A.C2)"
   ]
  },
  {
   "cell_type": "code",
   "execution_count": 17,
   "metadata": {
    "collapsed": false,
    "deletable": true,
    "editable": true
   },
   "outputs": [],
   "source": [
    "# create sensors on the bus 1\n",
    "tphyg = htud.HTU21D(bus1)\n",
    "bmp = bme.BMP280(bus1)\n",
    "ppress = mpl.MPL3115A2(bus1)"
   ]
  },
  {
   "cell_type": "code",
   "execution_count": 18,
   "metadata": {
    "collapsed": false,
    "deletable": true,
    "editable": true
   },
   "outputs": [
    {
     "name": "stdout",
     "output_type": "stream",
     "text": [
      "capteur : BMP280\tId : 88\n"
     ]
    }
   ],
   "source": [
    "name = bmp.getModuleName ()\n",
    "bmpId = bmp.getChipID ()\n",
    "print ('capteur : %s\\t'%name + 'Id : %d'%bmpId)"
   ]
  },
  {
   "cell_type": "code",
   "execution_count": 19,
   "metadata": {
    "collapsed": false,
    "deletable": true,
    "editable": true
   },
   "outputs": [
    {
     "name": "stdout",
     "output_type": "stream",
     "text": [
      "Temp(BMP) :  \tAlt(BMP) : \tPress(BMP) : \n",
      "24.4300 °C\t79.84 m\t\t1003.69 hPa\n"
     ]
    }
   ],
   "source": [
    "bmp.update ()\n",
    "bmTemp = bmp.getTemperature ()\n",
    "bmPress = bmp.getPressure () /100.0\n",
    "bmAlt = bmp.getAltitude ()\n",
    "print ('Temp(BMP) :  \\tAlt(BMP) : \\tPress(BMP) : ' )\n",
    "print ('%.4f °C\\t' %bmTemp + '%.2f m\\t\\t' %bmAlt  + '%.2f hPa' %bmPress)"
   ]
  },
  {
   "cell_type": "code",
   "execution_count": 24,
   "metadata": {
    "collapsed": false,
    "deletable": true,
    "editable": true
   },
   "outputs": [],
   "source": [
    "# Close Channel 4\n",
    "multiplex2.closeSlaves(multi.TCA9548A_DEFAULT_ADDR)"
   ]
  },
  {
   "cell_type": "code",
   "execution_count": 25,
   "metadata": {
    "collapsed": false,
    "deletable": true,
    "editable": true
   },
   "outputs": [],
   "source": [
    "#channels = {multi.TCA9548A.RESET,multi.TCA9548A.RESET,multi.TCA9548A.C2,multi.TCA9548A.RESET,multi.TCA9548A.C4,multi.TCA9548A.RESET,multi.TCA9548A.RESET,multi.TCA9548A.RESET}\n",
    "multiplex2 = multi.TCA9548A(bus1, multi.TCA9548A_DEFAULT_ADDR)\n",
    "multiplex2.selMultSlaves(multi.TCA9548A_DEFAULT_ADDR, multi.TCA9548A.RESET, multi.TCA9548A.RESET, multi.TCA9548A.C2, multi.TCA9548A.RESET, multi.TCA9548A.C4, multi.TCA9548A.RESET, multi.TCA9548A.RESET, multi.TCA9548A.RESET)"
   ]
  },
  {
   "cell_type": "code",
   "execution_count": 22,
   "metadata": {
    "collapsed": false,
    "deletable": true,
    "editable": true
   },
   "outputs": [
    {
     "name": "stdout",
     "output_type": "stream",
     "text": [
      "Int. Lum. : \tHumid(BME) : \tTemp(MCP) : \tTemp(BME) :  \tAlt(BME) : \tPress(BME) : \tPress(SealevelBME) : \n",
      "12.00\t\t0.0\t\t23.4375 °C\t-139.10 °C\t2370.67 m\t\t758.95 hPa\t\t789.72 hPa\t\n",
      "Temp(BMP) :  \tAlt(BMP) : \tPress(BMP) : \n",
      "-139.7200 °C\t1662.41 m\t\t828.77 hPa\n"
     ]
    }
   ],
   "source": [
    "tempHR = mes_mcpTemp(temp)\n",
    "hygroBME = mes_bmeHum(hygro) \n",
    "[tempBME,pressBME,altBME] = mes_bmTPA(hygro)\n",
    "seaLevelPress = convertSeaLevel (pressBME,tempBME,localAlt)\n",
    "lux = mes_tslLux(luxtsl)\n",
    "print ('Int. Lum. : \\tHumid(BME) : \\tTemp(MCP) : \\tTemp(BME) :  \\tAlt(BME) : \\tPress(BME) : \\tPress(SealevelBME) : ' )\n",
    "print ('%.2f\\t\\t' %lux + '%2.1f\\t\\t' %hygroBME + '%.4f °C\\t' %tempHR +  '%.2f °C\\t' %tempBME + '%.2f m\\t\\t' %altBME  + '%.2f hPa\\t\\t' %pressBME + '%.2f hPa\\t' %seaLevelPress)\n",
    "bmp.update ()\n",
    "bmTemp = bmp.getTemperature ()\n",
    "bmPress = bmp.getPressure () /100.0\n",
    "bmAlt = bmp.getAltitude ()\n",
    "print ('Temp(BMP) :  \\tAlt(BMP) : \\tPress(BMP) : ' )\n",
    "print ('%.4f °C\\t' %bmTemp + '%.2f m\\t\\t' %bmAlt  + '%.2f hPa' %bmPress)\n"
   ]
  },
  {
   "cell_type": "code",
   "execution_count": 23,
   "metadata": {
    "collapsed": true,
    "deletable": true,
    "editable": true
   },
   "outputs": [],
   "source": [
    "# Close all channels\n",
    "multiplex2.closeSlaves(multi.TCA9548A_DEFAULT_ADDR)"
   ]
  },
  {
   "cell_type": "code",
   "execution_count": null,
   "metadata": {
    "collapsed": true,
    "deletable": true,
    "editable": true
   },
   "outputs": [],
   "source": []
  }
 ],
 "metadata": {
  "kernelspec": {
   "display_name": "Python 3",
   "language": "python",
   "name": "python3"
  },
  "language_info": {
   "codemirror_mode": {
    "name": "ipython",
    "version": 3
   },
   "file_extension": ".py",
   "mimetype": "text/x-python",
   "name": "python",
   "nbconvert_exporter": "python",
   "pygments_lexer": "ipython3",
   "version": "3.5.3"
  }
 },
 "nbformat": 4,
 "nbformat_minor": 2
}
